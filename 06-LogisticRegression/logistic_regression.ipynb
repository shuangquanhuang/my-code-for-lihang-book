{
 "cells": [
  {
   "cell_type": "markdown",
   "metadata": {},
   "source": [
    "# Logistic 回归\n",
    "\n",
    "sigmoid 函数:\n",
    "\n",
    "$$\n",
    "S(x)={\\frac {1}{1+e^{-x}}}={\\frac {e^{x}}{e^{x}+1}}\n",
    "$$\n",
    "\n",
    "Logistic 回归模型的条件概率分布:\n",
    "\n",
    "$$\n",
    "P(Y=1|x)=\\frac{exp(\\mathbf w^T \\mathbf x + b)}{1+exp(\\mathbf w^T \\mathbf x + b)} =\\pi(\\mathbf x)\\\\\n",
    "P(Y=0|x)=\\frac{1}{1+exp(\\mathbf w^T \\mathbf x + b)}=1-\\pi(\\mathbf x)\n",
    "$$\n",
    "\n",
    "似然函数为:\n",
    "\n",
    "$$\n",
    "\\prod_{i=1}^N\\left(\\pi(\\mathbf x_i\\right)^{y_i}\\left(1-\\pi(x_i)\\right)^{1-y_i}\n",
    "$$\n",
    "\n",
    "对数似然函数为:\n",
    "\n",
    "$$\n",
    "\\begin{aligned}\n",
    "\\mathcal L(\\mathbf w)&=\\sum_{i=1}^N\\{y_ilog\\pi(\\mathbf x_i)+(1-y_i)log(1-\\pi(\\mathbf x_i))\\} \\\\\n",
    "&=\\sum_{i=1}^N\\{y_ilog\\frac{\\pi(\\mathbf x_i)}{1-\\pi(\\mathbf x_i)} + log(1-\\pi(\\mathbf x_i))\\} \\\\\n",
    "&=\\sum_{i=1}^N\\{y_i(\\mathbf w^T\\mathbf x_i)-log(1+exp(\\mathbf w^T\\mathbf x_i))\\}\n",
    "\\end{aligned}\n",
    "$$\n",
    "\n",
    "求$\\mathcal L(\\mathbf w)$的最大值得到$\\mathbf w^*$"
   ]
  },
  {
   "cell_type": "code",
   "execution_count": 1,
   "metadata": {},
   "outputs": [],
   "source": [
    "import numpy as np\n",
    "import matplotlib.pyplot as plt\n",
    "from sklearn.datasets import make_classification\n",
    "from sklearn.model_selection import train_test_split\n",
    "import pandas as pd\n",
    "import math\n",
    "from sklearn.metrics import accuracy_score\n",
    "import matplotlib\n",
    "from matplotlib.colors import Normalize\n",
    "\n",
    "%matplotlib inline\n",
    "\n",
    "N, M = 100, 2\n",
    "X, y = make_classification(n_samples=N, n_features=2, n_repeated=0, n_informative=2, n_redundant=0)\n",
    "\n",
    "cmap = matplotlib.cm.Paired"
   ]
  },
  {
   "cell_type": "code",
   "execution_count": 2,
   "metadata": {},
   "outputs": [
    {
     "data": {
      "text/html": [
       "<div>\n",
       "<style scoped>\n",
       "    .dataframe tbody tr th:only-of-type {\n",
       "        vertical-align: middle;\n",
       "    }\n",
       "\n",
       "    .dataframe tbody tr th {\n",
       "        vertical-align: top;\n",
       "    }\n",
       "\n",
       "    .dataframe thead th {\n",
       "        text-align: right;\n",
       "    }\n",
       "</style>\n",
       "<table border=\"1\" class=\"dataframe\">\n",
       "  <thead>\n",
       "    <tr style=\"text-align: right;\">\n",
       "      <th></th>\n",
       "      <th>feature_1</th>\n",
       "      <th>feature_2</th>\n",
       "      <th>label</th>\n",
       "    </tr>\n",
       "  </thead>\n",
       "  <tbody>\n",
       "    <tr>\n",
       "      <th>0</th>\n",
       "      <td>-0.927040</td>\n",
       "      <td>1.184022</td>\n",
       "      <td>0.0</td>\n",
       "    </tr>\n",
       "    <tr>\n",
       "      <th>1</th>\n",
       "      <td>-2.417012</td>\n",
       "      <td>-2.021395</td>\n",
       "      <td>0.0</td>\n",
       "    </tr>\n",
       "    <tr>\n",
       "      <th>2</th>\n",
       "      <td>-1.373956</td>\n",
       "      <td>1.381693</td>\n",
       "      <td>0.0</td>\n",
       "    </tr>\n",
       "    <tr>\n",
       "      <th>3</th>\n",
       "      <td>-2.092983</td>\n",
       "      <td>3.167385</td>\n",
       "      <td>0.0</td>\n",
       "    </tr>\n",
       "    <tr>\n",
       "      <th>4</th>\n",
       "      <td>-0.989421</td>\n",
       "      <td>2.179654</td>\n",
       "      <td>0.0</td>\n",
       "    </tr>\n",
       "  </tbody>\n",
       "</table>\n",
       "</div>"
      ],
      "text/plain": [
       "   feature_1  feature_2  label\n",
       "0  -0.927040   1.184022    0.0\n",
       "1  -2.417012  -2.021395    0.0\n",
       "2  -1.373956   1.381693    0.0\n",
       "3  -2.092983   3.167385    0.0\n",
       "4  -0.989421   2.179654    0.0"
      ]
     },
     "execution_count": 2,
     "metadata": {},
     "output_type": "execute_result"
    }
   ],
   "source": [
    "df = pd.DataFrame(np.c_[X, y], columns=['feature_{:.0f}'.format(i+1) for i in range(M)] + ['label'])\n",
    "df.head()"
   ]
  },
  {
   "cell_type": "code",
   "execution_count": 3,
   "metadata": {},
   "outputs": [
    {
     "data": {
      "text/plain": [
       "<matplotlib.collections.PathCollection at 0x15728b227b8>"
      ]
     },
     "execution_count": 3,
     "metadata": {},
     "output_type": "execute_result"
    },
    {
     "data": {
      "image/png": "[encoded data removed]",
      "text/plain": [
       "<Figure size 432x288 with 1 Axes>"
      ]
     },
     "metadata": {
      "needs_background": "light"
     },
     "output_type": "display_data"
    }
   ],
   "source": [
    "X_train, X_test, y_train, y_test = train_test_split(X, y, test_size=0.2)\n",
    "plt.scatter(X[:, 0], X[:, 1], c=y)"
   ]
  },
  {
   "cell_type": "code",
   "execution_count": 4,
   "metadata": {},
   "outputs": [
    {
     "data": {
      "text/plain": [
       "array([[ 0.87308667, -0.81105337,  1.        ],\n",
       "       [-1.98300473,  3.11687398,  1.        ]])"
      ]
     },
     "execution_count": 4,
     "metadata": {},
     "output_type": "execute_result"
    }
   ],
   "source": [
    "X_train = np.c_[X_train, np.ones((X_train.shape[0], 1))]\n",
    "X_test = np.c_[X_test, np.ones((X_test.shape[0], 1))]\n",
    "\n",
    "X_train[:2]"
   ]
  },
  {
   "cell_type": "code",
   "execution_count": 5,
   "metadata": {},
   "outputs": [
    {
     "data": {
      "text/plain": [
       "[<matplotlib.lines.Line2D at 0x15728be0470>]"
      ]
     },
     "execution_count": 5,
     "metadata": {},
     "output_type": "execute_result"
    },
    {
     "data": {
      "image/png": "[encoded data removed]",
      "text/plain": [
       "<Figure size 432x288 with 1 Axes>"
      ]
     },
     "metadata": {
      "needs_background": "light"
     },
     "output_type": "display_data"
    }
   ],
   "source": [
    "def sigmoid(x):\n",
    "    return 1/(1+np.exp(-x))\n",
    "\n",
    "sx = np.linspace(-10, 10, 1000)\n",
    "sy = sigmoid(sx)\n",
    "plt.plot(sx, sy, lw=3)\n",
    "plt.plot([-10, 10], [0, 0], c='k', lw=1)\n",
    "plt.plot([0, 0], [0, 1], c='k', lw=1)"
   ]
  },
  {
   "cell_type": "code",
   "execution_count": 6,
   "metadata": {},
   "outputs": [],
   "source": [
    "def predict(w, X):\n",
    "    yhat = [1 if v < 0.5 else 0 for v in sigmoid(X@w)]\n",
    "    return yhat"
   ]
  },
  {
   "cell_type": "code",
   "execution_count": 7,
   "metadata": {},
   "outputs": [
    {
     "data": {
      "text/plain": [
       "0.75"
      ]
     },
     "execution_count": 7,
     "metadata": {},
     "output_type": "execute_result"
    }
   ],
   "source": [
    "def cost(w, X, y):\n",
    "    yhat = predict(w, X)\n",
    "    return 1-accuracy_score(y, yhat)\n",
    "\n",
    "w = np.random.rand(X_train.shape[1], 1)\n",
    "cost(w, X_train, y_train)"
   ]
  },
  {
   "cell_type": "markdown",
   "metadata": {},
   "source": [
    "使用梯度下降法求最佳参数\n",
    "\n",
    "令$\\frac{\\partial \\mathcal L(\\mathbf w)}{\\partial \\mathbf w} = 0$得到:\n",
    "\n",
    "$$\n",
    "d \\mathbf w = \\sum_{i=1}^N\\left(y_i-\\frac{1}{1+exp(\\mathbf w^T\\mathbf x_i)}\\right) \\mathbf x_i\n",
    "$$"
   ]
  },
  {
   "cell_type": "code",
   "execution_count": 8,
   "metadata": {},
   "outputs": [
    {
     "data": {
      "text/plain": [
       "Text(0.5, 1.0, 'final acc = 0.90')"
      ]
     },
     "execution_count": 8,
     "metadata": {},
     "output_type": "execute_result"
    },
    {
     "data": {
      "image/png": "[encoded data removed]",
      "text/plain": [
       "<Figure size 432x288 with 1 Axes>"
      ]
     },
     "metadata": {
      "needs_background": "light"
     },
     "output_type": "display_data"
    }
   ],
   "source": [
    "costs = []\n",
    "def train(X, y, maxiter=1000, alpha=0.01):\n",
    "    w = np.random.rand(X.shape[1], 1)\n",
    "    y = y.reshape(-1, 1)\n",
    "    for epoch in range(maxiter):\n",
    "        yhat = X@w\n",
    "        dw = X.T@(y - 1/(1+np.exp(yhat)))\n",
    "        w -= alpha*dw\n",
    "        costs.append(cost(w, X, y))\n",
    "    return w\n",
    "\n",
    "w = train(X_train, y_train)\n",
    "plt.plot([i for i in range(len(costs))], costs)\n",
    "ypred = predict(w, X_test)\n",
    "acc = accuracy_score(ypred, y_test)\n",
    "plt.title('final acc = {:.2f}'.format(acc))"
   ]
  },
  {
   "cell_type": "code",
   "execution_count": 9,
   "metadata": {},
   "outputs": [
    {
     "data": {
      "text/plain": [
       "<matplotlib.collections.PathCollection at 0x15728ccb1d0>"
      ]
     },
     "execution_count": 9,
     "metadata": {},
     "output_type": "execute_result"
    },
    {
     "data": {
      "image/png": "[encoded data removed]",
      "text/plain": [
       "<Figure size 1080x720 with 1 Axes>"
      ]
     },
     "metadata": {
      "needs_background": "light"
     },
     "output_type": "display_data"
    }
   ],
   "source": [
    "plt.figure(figsize=(15, 10))\n",
    "norm = Normalize(vmin=0, vmax=1)\n",
    "plt.scatter(X_train[:, 0], X_train[:, 1], cmap=cmap, c=y_train, s = 20)\n",
    "plt.scatter(X_test[:, 0], X_test[:, 1], marker='o', fc='w', s=100, ec=[cmap(v) for v in norm(ypred)])"
   ]
  },
  {
   "cell_type": "markdown",
   "metadata": {},
   "source": [
    "使用SGD求最佳参数"
   ]
  },
  {
   "cell_type": "code",
   "execution_count": 10,
   "metadata": {},
   "outputs": [
    {
     "data": {
      "text/plain": [
       "Text(0.5, 1.0, 'final acc = 0.90')"
      ]
     },
     "execution_count": 10,
     "metadata": {},
     "output_type": "execute_result"
    },
    {
     "data": {
      "image/png": "[encoded data removed]",
      "text/plain": [
       "<Figure size 432x288 with 1 Axes>"
      ]
     },
     "metadata": {
      "needs_background": "light"
     },
     "output_type": "display_data"
    }
   ],
   "source": [
    "costs = []\n",
    "def train_sgd(X, y, maxiter=10, alpha=0.01):\n",
    "    w = np.random.rand(X.shape[1], 1)\n",
    "    for epoch in range(maxiter):\n",
    "        for _ in range(X.shape[0]):\n",
    "            i = np.random.randint(0, X.shape[0])\n",
    "            xi = X[i].reshape(-1, 1)\n",
    "            yi = y[i]\n",
    "            yhat = (w.T@xi).item(0)\n",
    "            dw = (yi-1/(1+math.exp(yhat)))*xi\n",
    "            w -= dw*alpha\n",
    "            costs.append(cost(w, X, y))\n",
    "    return w\n",
    "    \n",
    "    \n",
    "w = train(X_train, y_train)\n",
    "ypred = predict(w, X_test)\n",
    "acc = accuracy_score(ypred, y_test)\n",
    "plt.plot([i for i in range(len(costs))], costs)\n",
    "plt.title('final acc = {:.2f}'.format(acc))"
   ]
  },
  {
   "cell_type": "code",
   "execution_count": 11,
   "metadata": {},
   "outputs": [
    {
     "data": {
      "text/plain": [
       "<matplotlib.collections.PathCollection at 0x15728d59128>"
      ]
     },
     "execution_count": 11,
     "metadata": {},
     "output_type": "execute_result"
    },
    {
     "data": {
      "image/png": "[encoded data removed]",
      "text/plain": [
       "<Figure size 1080x720 with 1 Axes>"
      ]
     },
     "metadata": {
      "needs_background": "light"
     },
     "output_type": "display_data"
    }
   ],
   "source": [
    "plt.figure(figsize=(15, 10))\n",
    "norm = Normalize(vmin=0, vmax=1)\n",
    "plt.scatter(X_train[:, 0], X_train[:, 1], cmap=cmap, c=y_train, s = 20)\n",
    "plt.scatter(X_test[:, 0], X_test[:, 1], marker='o', fc='w', s=100, ec=[cmap(v) for v in norm(ypred)])"
   ]
  },
  {
   "cell_type": "markdown",
   "metadata": {},
   "source": [
    "# 最大熵模型\n",
    "\n",
    "假设模型是概率分布$P(Y|X)$,给定训练集$T=\\{(x_1, y_1), (x_2, y_2), \\cdots, (x_n, y_n)\\}$的经验联合分布和经验边缘分布分别是:\n",
    "\n",
    "$$\n",
    "\\tilde P(X=x, Y=y)=\\frac{count(X=x, Y=y)}{N} \\\\\n",
    "\\tilde P(X=x)=\\frac{count(X=x)}{N}\n",
    "$$\n",
    "\n",
    "用特征函数$f(x,y)$表示输入$x$和输出$y$之间的某一事实,其定义为:\n",
    "\n",
    "$$\n",
    "f(x, y)=\n",
    "\\begin{cases}\n",
    "1, & x与y满足某一事实\\\\\n",
    "0, & otherwise\n",
    "\\end{cases}\n",
    "$$\n",
    "\n",
    "特征函数$f(x, y)$关于经验分布$\\tilde P(X,Y)$的期望值:\n",
    "\n",
    "$$\n",
    "E_{\\tilde P}(f) = \\sum_{x, y}\\tilde P(x, y)f(x, y)\n",
    "$$\n",
    "\n",
    "特征函数$f(x, y)$关于模型$P(Y|X)$的期望值:\n",
    "\n",
    "$$\n",
    "E_P(f)=\\sum_{x, y}\\tilde P(x)P(y|x)f(x, y)\n",
    "$$\n",
    "\n",
    "\n",
    "假设两个期望相等,即:\n",
    "\n",
    "$$\n",
    "E_P{f}=E_{\\tilde P}(f)\n",
    "$$\n",
    "\n",
    "或者\n",
    "\n",
    "$$\n",
    "\\sum_{x,y}\\tilde P(x)P(y|x)f(x, y) = \\sum_{x,y}\\tilde P(x, y)f(x, y)\n",
    "$$\n",
    "\n",
    "最大熵模型即在条件概率分布$P(Y|X)$上的条件熵最大:\n",
    "\n",
    "$$\n",
    "\\underset {P\\in C} H(P)=-\\sum_{x,y}\\tilde P(x)P(y|x)log P(y|x) \\\\\n",
    "s.t. E_P(f_i)=E_{\\tilde P}(f_i), \\\\\n",
    "\\sum_y P(y|x)=1\n",
    "$$\n",
    "\n",
    "其中$C$是所有满足约束条件的模型集合\n",
    "\n",
    "按照极大似然估计写成最大熵更一般的形式, 即是由以下条件概率分布表示的分类模型.可以用于二分类或者多分类:\n",
    "\n",
    "$$\n",
    "P_w(y|x)=\\frac{1}{Z_w(x)}exp\\left(\\sum_{i=1}^nw_if_i(x, y)\\right)\n",
    "$$\n",
    "\n",
    "其中,\n",
    "\n",
    "$$\n",
    "Z_w(x)=\\sum_y exp\\left(\\sum_{i=1}^nw_if_i(x, y)\\right)\n",
    "$$\n",
    "\n",
    "这里$x \\in \\mathcal R^n$为输入,$y \\in \\{1, 2, \\cdots, K\\}$为输出,$w \\in \\mathcal R^n$为权值向量,$f_i(x, y), i=1, 2, \\ldots, n$为任意特征值函数.\n",
    "\n",
    "\n",
    "\n",
    "特征函数$f(x, y)$关于经验分布$\\tilde P(Y|X)$\n",
    "\n",
    "## 改进的尺度迭代法(improved iterative scaling, IIS)\n",
    "\n",
    "输入: 特征函数$f_1, f_2,\\ldots, f_n$;经验分布$\\tilde P(X, Y)$,模型$P_w(y|x)$\n",
    "\n",
    "输出: 最优参数$w^*$;最优模型$P_{w^*}$;\n",
    "\n",
    "1. 初始化$w_i=0$\n",
    "2. 对每个$i \\in \\{1, 2, \\ldots, n\\}$\n",
    "    1. 令$\\delta_i$ 是方程\n",
    "        $$\n",
    "            \\sum_{x,y}\\tilde P(x)P(y|x)f_i(x, y)exp(\\delta_if^\\#(x, y))=E_{\\tilde P}(f_i) \\\\\n",
    "            写成 g(\\delta_i^*)=0\n",
    "        $$\n",
    "        \n",
    "       的解, 其中$f^\\#(x,y)=\\sum_{i=1}^nf_i(x, y)$\n",
    "    2. 更新$w_i$的值:$w_i = w_i+\\delta_i$\n",
    "3. 如果不是所有的$w_i$都已经收敛,重复(2)\n",
    "\n",
    "如果$f^\\#(x, y)$是常数$M$,因为$\\delta_i$是$\\sum_{x,y}\\tilde P(x)P(y|x)f_i(x, y)exp(\\delta_if^\\#(x, y))-E_{\\tilde P}(f_i)=0$的解，所以：\n",
    "\n",
    "$$\n",
    "\\begin{aligned}\n",
    "& \\sum_{x,y}\\tilde P(x)P(y|x)f_i(x, y)exp(\\delta_if^\\#(x, y))-E_{\\tilde P}(f_i)=0 \\\\\n",
    "& \\Rightarrow exp(\\delta_if^\\#(x, y))E_P(f_i)-E_{\\tilde P}(f_i)=0 \\\\\n",
    "& \\Rightarrow exp(\\delta_if^\\#(x, y)) = \\frac{E_{\\tilde P}(f_i)}{E_P(f_i)} \\\\\n",
    "& \\Rightarrow \\delta_if^\\#(x, y)= log\\frac{E_{\\tilde P}(f_i)}{E_P(f_i)} \\\\\n",
    "& \\Rightarrow \\delta_i=\\frac{1}{M}log\\frac{E_{\\tilde P}(f_i)}{E_P(f_i)}\n",
    "\\end{aligned}\n",
    "$$\n",
    "\n",
    "否则通过牛顿法迭代求$\\delta_i^*$,即:\n",
    "\n",
    "$$\n",
    "\\delta_i^{(k+1)} = \\delta_i^{(k)}-\\frac{g(\\delta_i^{(k)})}{g'(\\delta_i^{(k)})}\n",
    "$$"
   ]
  },
  {
   "cell_type": "code",
   "execution_count": 12,
   "metadata": {},
   "outputs": [],
   "source": [
    "import collections\n",
    "dataset = [['no', 'sunny', 'hot', 'high', 'FALSE'],\n",
    "           ['no', 'sunny', 'hot', 'high', 'TRUE'],\n",
    "           ['yes', 'overcast', 'hot', 'high', 'FALSE'],\n",
    "           ['yes', 'rainy', 'mild', 'high', 'FALSE'],\n",
    "           ['yes', 'rainy', 'cool', 'normal', 'FALSE'],\n",
    "           ['no', 'rainy', 'cool', 'normal', 'TRUE'],\n",
    "           ['yes', 'overcast', 'cool', 'normal', 'TRUE'],\n",
    "           ['no', 'sunny', 'mild', 'high', 'FALSE'],\n",
    "           ['yes', 'sunny', 'cool', 'normal', 'FALSE'],\n",
    "           ['yes', 'rainy', 'mild', 'normal', 'FALSE'],\n",
    "           ['yes', 'sunny', 'mild', 'normal', 'TRUE'],\n",
    "           ['yes', 'overcast', 'mild', 'high', 'TRUE'],\n",
    "           ['yes', 'overcast', 'hot', 'normal', 'FALSE'],\n",
    "           ['no', 'rainy', 'mild', 'high', 'TRUE']]"
   ]
  },
  {
   "cell_type": "markdown",
   "metadata": {},
   "source": [
    "MaxEntropy的EP是特征函数$f(x, y)$关于经验分布$\\tilde P(X,Y)$的期望值:\n",
    "\n",
    "$$\n",
    "E_{\\tilde P}(f) = \\sum_{x, y}\\tilde P(x, y)f(x, y)\n",
    "$$"
   ]
  },
  {
   "cell_type": "code",
   "execution_count": 13,
   "metadata": {},
   "outputs": [],
   "source": [
    "class MaxEntropy:\n",
    "    def __init__(self, EPS=0.001):\n",
    "        self.samples = []\n",
    "        self.y = set()\n",
    "        self.N = 0 # 样本数量\n",
    "        self.n = 0 # 不同的(x, y)的数量\n",
    "        self.w = [] # parameter\n",
    "        self.eps = EPS\n",
    "        self.lastw = [] # last parameter\n",
    "        self.countXy = collections.defaultdict(int) # count of (x, y)\n",
    "        self.xyId = {} # id of (x, y)\n",
    "        self.idXy = {} # (x, y) of id\n",
    "        self.EP = [] # 样本分布的期望特征值\n",
    "        self.C = 0 # 最大特征数量\n",
    "        \n",
    "    def load_data(self, dataset):\n",
    "        self.samples = dataset.copy()\n",
    "        self.N = len(dataset)\n",
    "        self.C = max([len(sample)-1 for sample in self.samples])\n",
    "        self.y = set()\n",
    "        self.countXy = collections.defaultdict(int)\n",
    "        self.xyId = {} # id of (x, y)\n",
    "        self.idXy = {} # (x, y) of id\n",
    "        \n",
    "        for items in self.samples:\n",
    "            X, y = items[1:], items[0]\n",
    "            self.y.add(y)\n",
    "            for x in X:\n",
    "                self.countXy[(x, y)] += 1\n",
    "        \n",
    "        n = len(self.countXy)\n",
    "        self.n = n\n",
    "        self.w = np.zeros(n)\n",
    "        self.lastw = np.ones(n)\n",
    "        \n",
    "        self.EP = np.zeros(n)\n",
    "        for i, xyc in enumerate(self.countXy.items()):\n",
    "            xy, c = xyc\n",
    "            self.EP[i] = c/self.N\n",
    "            self.xyId[xy] = i\n",
    "            self.idXy[i] = xy\n",
    "        \n",
    "        \n",
    "enc = MaxEntropy()\n",
    "enc.load_data(dataset)"
   ]
  },
  {
   "cell_type": "markdown",
   "metadata": {},
   "source": [
    "计算$Z_w(x)=\\sum_y exp\\left(\\sum_{i=1}^nw_if_i(x, y)\\right)$"
   ]
  },
  {
   "cell_type": "code",
   "execution_count": 14,
   "metadata": {},
   "outputs": [
    {
     "data": {
      "text/plain": [
       "2.0"
      ]
     },
     "execution_count": 14,
     "metadata": {},
     "output_type": "execute_result"
    }
   ],
   "source": [
    "def zwx(enc, X):\n",
    "    zx = 0\n",
    "    for y in enc.y:\n",
    "        ss = np.sum([enc.w[enc.xyId[(x, y)]] for x in X if enc.countXy[(x, y)]>0])\n",
    "#         for x in X:\n",
    "#             print(ss, enc.countXy[(x, y)], x,y)\n",
    "        zx += np.exp(ss)\n",
    "    return zx\n",
    "\n",
    "zwx(enc, dataset[0][1:])"
   ]
  },
  {
   "cell_type": "markdown",
   "metadata": {},
   "source": [
    "计算$P_w(y|x)=\\frac{1}{Z_w(x)}exp\\left(\\sum_{i=1}^nw_if_i(x, y)\\right)$"
   ]
  },
  {
   "cell_type": "code",
   "execution_count": 15,
   "metadata": {},
   "outputs": [
    {
     "data": {
      "text/plain": [
       "0.5"
      ]
     },
     "execution_count": 15,
     "metadata": {},
     "output_type": "execute_result"
    }
   ],
   "source": [
    "def model_pyx(enc, y, X):\n",
    "    zx = zwx(enc, X)\n",
    "    ss = np.sum([enc.w[enc.xyId[(x, y)]] for x in X if enc.countXy[(x, y)] > 0])\n",
    "    return np.exp(ss)/zx\n",
    "\n",
    "model_pyx(enc, dataset[0][0], dataset[0][1:])    "
   ]
  },
  {
   "cell_type": "markdown",
   "metadata": {},
   "source": [
    "特征函数$f(x, y)$关于模型$P(Y|X)$的期望值:\n",
    "\n",
    "$$\n",
    "E_P(f)=\\sum_{x, y}\\tilde P(x)P(y|x)f(x, y)\n",
    "$$"
   ]
  },
  {
   "cell_type": "code",
   "execution_count": 16,
   "metadata": {},
   "outputs": [
    {
     "data": {
      "text/plain": [
       "0.17857142857142855"
      ]
     },
     "execution_count": 16,
     "metadata": {},
     "output_type": "execute_result"
    }
   ],
   "source": [
    "def model_ep(enc, index):\n",
    "    x, y = enc.idXy[index]\n",
    "    ep = 0\n",
    "    for sample in enc.samples:\n",
    "        if x not in sample:\n",
    "            continue\n",
    "        pyx = model_pyx(enc, y, sample)\n",
    "        ep += pyx/enc.N\n",
    "    \n",
    "    return ep\n",
    "\n",
    "model_ep(enc, 0)"
   ]
  },
  {
   "cell_type": "markdown",
   "metadata": {},
   "source": [
    "判断是否完全收敛"
   ]
  },
  {
   "cell_type": "code",
   "execution_count": 17,
   "metadata": {},
   "outputs": [
    {
     "data": {
      "text/plain": [
       "False"
      ]
     },
     "execution_count": 17,
     "metadata": {},
     "output_type": "execute_result"
    }
   ],
   "source": [
    "def model_converge(enc):\n",
    "    return all([v < enc.eps for v in enc.lastw-enc.w])\n",
    "\n",
    "model_converge(enc)"
   ]
  },
  {
   "cell_type": "markdown",
   "metadata": {},
   "source": [
    "训练模型\n",
    "\n",
    "如果$f^\\#(x, y)$是常数,则$\\delta_i$可表示为:\n",
    "\n",
    "$$\n",
    "\\delta_i=\\frac{1}{M}log\\frac{E_{\\tilde P}(f_i)}{E_P(f_i)}\n",
    "$$\n"
   ]
  },
  {
   "cell_type": "code",
   "execution_count": 18,
   "metadata": {},
   "outputs": [],
   "source": [
    "def train(enc, maxiter=1000):\n",
    "    for epoch in range(maxiter):\n",
    "        enc.lastw[:] = enc.w # or enc.lastw = np.array(enc.w), can't be enc.lastw = enc.w[:]\n",
    "        for i in range(enc.n):\n",
    "            ep = model_ep(enc, i)\n",
    "            enc.w[i] += math.log(enc.EP[i]/ep)/enc.C\n",
    "        if model_converge(enc):\n",
    "            break\n",
    "train(enc)"
   ]
  },
  {
   "cell_type": "markdown",
   "metadata": {},
   "source": [
    "$$\n",
    "P_w(y|x) = \\frac{1}{Z_w(x)}exp\\left(\\sum_{i=1}^nw_if_i(x, y)\\right)\n",
    "$$\n",
    "\n",
    "这里取\n",
    "$$\n",
    "f_i(x, y) = 1\n",
    "$$"
   ]
  },
  {
   "cell_type": "code",
   "execution_count": 19,
   "metadata": {},
   "outputs": [
    {
     "data": {
      "text/plain": [
       "{'no': 4.776792073973857e-07, 'yes': 0.9999995223207926}"
      ]
     },
     "execution_count": 19,
     "metadata": {},
     "output_type": "execute_result"
    }
   ],
   "source": [
    "def predict(enc, X):\n",
    "    z = zwx(enc, X)\n",
    "    result = {}\n",
    "    for y in enc.y:\n",
    "        ss = np.sum([enc.w[enc.xyId[(x, y)]] for x in X if enc.countXy[(x, y)] > 0])\n",
    "        pyx = math.exp(ss)/z\n",
    "        result[y] = pyx\n",
    "    \n",
    "    return result\n",
    "\n",
    "predict(enc, ['overcast', 'mild', 'high', 'FALSE'])"
   ]
  },
  {
   "cell_type": "markdown",
   "metadata": {},
   "source": [
    "## 梯度下降\n",
    "\n",
    "$$\n",
    "\\frac{\\partial f(w)}{\\partial w_i} = \\sum_{x,y}\\tilde P(x)P_w(y|x)f_i(x, y)-E_{\\tilde P}(f_i), i=1, 2, \\ldots, n\n",
    "$$"
   ]
  },
  {
   "cell_type": "code",
   "execution_count": 20,
   "metadata": {},
   "outputs": [
    {
     "data": {
      "text/plain": [
       "{'no': 6.096523003380522e-08, 'yes': 0.9999999390347699}"
      ]
     },
     "execution_count": 20,
     "metadata": {},
     "output_type": "execute_result"
    }
   ],
   "source": [
    "def train(enc, maxiter=1000):\n",
    "    for epoch in range(maxiter):\n",
    "        enc.lastw[:] = enc.w # or enc.lastw = np.array(enc.w), can't be enc.lastw = enc.w[:]\n",
    "        for i in range(enc.n):\n",
    "            ep = model_ep(enc, i)\n",
    "            dw = ep - enc.EP[i]\n",
    "            X, y = enc.idXy[i]\n",
    "            g = model_pyx(enc, y, X)\n",
    "            enc.w[i] -= dw/g\n",
    "#             enc.w[i] += math.log(enc.EP[i]/ep)/enc.C\n",
    "        if model_converge(enc):\n",
    "            break\n",
    "\n",
    "enc = MaxEntropy()\n",
    "enc.load_data(dataset)\n",
    "train(enc)\n",
    "predict(enc, ['overcast', 'mild', 'high', 'FALSE'])"
   ]
  },
  {
   "cell_type": "markdown",
   "metadata": {},
   "source": [
    "## 牛顿法\n",
    "\n",
    "$$\n",
    "\\delta_i^{(k+1)} = \\delta_i^{(k)}-\\frac{g(\\delta_i^{(k)})}{g'(\\delta_i^{(k)})}\n",
    "$$\n",
    "\n",
    "其中：\n",
    "\n",
    "$$\n",
    "g(\\delta_i) = \\sum_{x,y}\\tilde P(x)P(y|x)f_i(x, y)exp(\\delta_if^\\#(x, y))-E_{\\tilde P}(f_i)\n",
    "$$\n",
    "\n",
    "$$\n",
    "g'(\\delta_i^{(k)}) = f^\\#(x, y)\\sum_{x,y}\\tilde P(x)P(y|x)f_i(x, y)exp(\\delta_if^\\#(x, y))\n",
    "$$\n",
    "\n",
    "\n",
    "$$\n",
    "\\begin{aligned}\n",
    "\\delta_i^{(k+1)} &= \\delta_i^{(k)}-\\frac{g(\\delta_i^{(k)})}{g'(\\delta_i^{(k)})} \\\\\n",
    "&= \\delta_i^{(k)}- \\frac{\\sum_{x,y}\\tilde P(x)P(y|x)f_i(x, y)exp(\\delta_if^\\#(x, y))-E_{\\tilde P}(f_i)}{f^\\#(x, y)\\sum_{x,y}\\tilde P(x)P(y|x)f_i(x, y)exp(\\delta_if^\\#(x, y))} \\\\\n",
    "&= \\delta_i^{(k)}- \\frac{E_P(f_i)exp(\\delta_if^\\#(x, y))-E_{\\tilde P(f_i)}}{f^\\#(x, y)E_P(f_i)exp(\\delta_if^\\#(x, y))} \\\\\n",
    "&= \\delta_i^{(k)}- \\frac{E_P(f_i)exp(\\delta_iM)-E_{\\tilde P(f_i)}}{ME_P(f_i)exp(\\delta_iM)} \\\\\n",
    "&= \\delta_i^{(k)}- (\\frac{1}{M}-\\frac{E_{\\tilde P(f_i)}}{ME_P(f_i)exp(\\delta_iM)})\n",
    "\\end{aligned}\n",
    "$$"
   ]
  },
  {
   "cell_type": "code",
   "execution_count": 33,
   "metadata": {},
   "outputs": [
    {
     "data": {
      "text/plain": [
       "0.0014163053935362935"
      ]
     },
     "execution_count": 33,
     "metadata": {},
     "output_type": "execute_result"
    }
   ],
   "source": [
    "def cal_delta(enc, index, eps=0.0001):\n",
    "    w = enc.w[index]\n",
    "    delta = 1.0\n",
    "    p = model_ep(enc, index)\n",
    "    ep = enc.EP[index]\n",
    "    m = enc.C\n",
    "    while True:\n",
    "        delta_new = delta - (1/m-ep/(m*p*math.exp(m*delta)))\n",
    "        if abs(delta_new-delta)<eps:\n",
    "            break\n",
    "        delta = delta_new\n",
    "    return delta\n",
    "\n",
    "cal_delta(enc, 0)"
   ]
  },
  {
   "cell_type": "code",
   "execution_count": 35,
   "metadata": {},
   "outputs": [
    {
     "name": "stdout",
     "output_type": "stream",
     "text": [
      "[  4.37272765   0.03265379   1.87946734  -5.11157897   2.07657925\n",
      "   6.0454921   -0.12463117  -2.56927295   1.70262214  -2.15920066\n",
      "   2.18199167  -1.44364207   1.96134872   3.37931552   4.46036501\n",
      " -10.90910257  -2.15738619  -3.96211106  -6.48511167]\n"
     ]
    },
    {
     "data": {
      "text/plain": [
       "{'no': 4.773307831028548e-07, 'yes': 0.999999522669217}"
      ]
     },
     "execution_count": 35,
     "metadata": {},
     "output_type": "execute_result"
    }
   ],
   "source": [
    "def train(enc, maxiter=1000, eps=0.001):\n",
    "    for epoch in range(maxiter):\n",
    "        enc.lastw[:] = enc.w # or enc.lastw = np.array(enc.w), can't be enc.lastw = enc.w[:]\n",
    "        for i in range(enc.n):            \n",
    "            enc.w[i] += cal_delta(enc, i)\n",
    "        if model_converge(enc):\n",
    "            print('DONE!')\n",
    "            break\n",
    "\n",
    "enc = MaxEntropy()\n",
    "enc.load_data(dataset)\n",
    "train(enc)\n",
    "print(enc.w)\n",
    "predict(enc, ['overcast', 'mild', 'high', 'FALSE'])"
   ]
  },
  {
   "cell_type": "code",
   "execution_count": null,
   "metadata": {},
   "outputs": [],
   "source": []
  },
  {
   "cell_type": "code",
   "execution_count": null,
   "metadata": {},
   "outputs": [],
   "source": []
  }
 ],
 "metadata": {
  "kernelspec": {
   "display_name": "Python 3",
   "language": "python",
   "name": "python3"
  },
  "language_info": {
   "codemirror_mode": {
    "name": "ipython",
    "version": 3
   },
   "file_extension": ".py",
   "mimetype": "text/x-python",
   "name": "python",
   "nbconvert_exporter": "python",
   "pygments_lexer": "ipython3",
   "version": "3.6.7"
  }
 },
 "nbformat": 4,
 "nbformat_minor": 2
}
