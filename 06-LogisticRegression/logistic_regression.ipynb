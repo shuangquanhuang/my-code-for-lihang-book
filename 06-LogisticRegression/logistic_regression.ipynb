{
 "cells": [
  {
   "cell_type": "markdown",
   "metadata": {},
   "source": [
    "# Logistic 回归\n",
    "\n",
    "sigmoid 函数:\n",
    "\n",
    "$$\n",
    "S(x)={\\frac {1}{1+e^{-x}}}={\\frac {e^{x}}{e^{x}+1}}\n",
    "$$\n",
    "\n",
    "Logistic 回归模型的条件概率分布:\n",
    "\n",
    "$$\n",
    "P(Y=1|x)=\\frac{exp(\\mathbf w^T \\mathbf x + b)}{1+exp(\\mathbf w^T \\mathbf x + b)} =\\pi(\\mathbf x)\\\\\n",
    "P(Y=0|x)=\\frac{1}{1+exp(\\mathbf w^T \\mathbf x + b)}=1-\\pi(\\mathbf x)\n",
    "$$\n",
    "\n",
    "似然函数为:\n",
    "\n",
    "$$\n",
    "\\prod_{i=1}^N\\left(\\pi(\\mathbf x_i\\right)^{y_i}\\left(1-\\pi(x_i)\\right)^{1-y_i}\n",
    "$$\n",
    "\n",
    "对数似然函数为:\n",
    "\n",
    "$$\n",
    "\\begin{aligned}\n",
    "\\mathcal L(\\mathbf w)&=\\sum_{i=1}^N\\{y_ilog\\pi(\\mathbf x_i)+(1-y_i)log(1-\\pi(\\mathbf x_i))\\} \\\\\n",
    "&=\\sum_{i=1}^N\\{y_ilog\\frac{\\pi(\\mathbf x_i)}{1-\\pi(\\mathbf x_i)} + log(1-\\pi(\\mathbf x_i))\\} \\\\\n",
    "&=\\sum_{i=1}^N\\{y_i(\\mathbf w^T\\mathbf x_i)-log(1+exp(\\mathbf w^T\\mathbf x_i))\\}\n",
    "\\end{aligned}\n",
    "$$\n",
    "\n",
    "求$\\mathcal L(\\mathbf w)$的最大值得到$\\mathbf w^*$"
   ]
  },
  {
   "cell_type": "code",
   "execution_count": 1,
   "metadata": {},
   "outputs": [],
   "source": [
    "import numpy as np\n",
    "import matplotlib.pyplot as plt\n",
    "from sklearn.datasets import make_classification\n",
    "from sklearn.model_selection import train_test_split\n",
    "import pandas as pd\n",
    "import math\n",
    "from sklearn.metrics import accuracy_score\n",
    "import matplotlib\n",
    "from matplotlib.colors import Normalize\n",
    "\n",
    "%matplotlib inline\n",
    "\n",
    "N, M = 100, 2\n",
    "X, y = make_classification(n_samples=N, n_features=2, n_repeated=0, n_informative=2, n_redundant=0)\n",
    "\n",
    "cmap = matplotlib.cm.Paired"
   ]
  },
  {
   "cell_type": "code",
   "execution_count": 2,
   "metadata": {},
   "outputs": [
    {
     "data": {
      "text/html": [
       "<div>\n",
       "<style scoped>\n",
       "    .dataframe tbody tr th:only-of-type {\n",
       "        vertical-align: middle;\n",
       "    }\n",
       "\n",
       "    .dataframe tbody tr th {\n",
       "        vertical-align: top;\n",
       "    }\n",
       "\n",
       "    .dataframe thead th {\n",
       "        text-align: right;\n",
       "    }\n",
       "</style>\n",
       "<table border=\"1\" class=\"dataframe\">\n",
       "  <thead>\n",
       "    <tr style=\"text-align: right;\">\n",
       "      <th></th>\n",
       "      <th>feature_1</th>\n",
       "      <th>feature_2</th>\n",
       "      <th>label</th>\n",
       "    </tr>\n",
       "  </thead>\n",
       "  <tbody>\n",
       "    <tr>\n",
       "      <th>0</th>\n",
       "      <td>2.128618</td>\n",
       "      <td>1.965428</td>\n",
       "      <td>1.0</td>\n",
       "    </tr>\n",
       "    <tr>\n",
       "      <th>1</th>\n",
       "      <td>-1.514191</td>\n",
       "      <td>-0.241518</td>\n",
       "      <td>0.0</td>\n",
       "    </tr>\n",
       "    <tr>\n",
       "      <th>2</th>\n",
       "      <td>0.511398</td>\n",
       "      <td>-0.305790</td>\n",
       "      <td>0.0</td>\n",
       "    </tr>\n",
       "    <tr>\n",
       "      <th>3</th>\n",
       "      <td>-0.646932</td>\n",
       "      <td>-1.329287</td>\n",
       "      <td>0.0</td>\n",
       "    </tr>\n",
       "    <tr>\n",
       "      <th>4</th>\n",
       "      <td>2.036234</td>\n",
       "      <td>2.117991</td>\n",
       "      <td>1.0</td>\n",
       "    </tr>\n",
       "  </tbody>\n",
       "</table>\n",
       "</div>"
      ],
      "text/plain": [
       "   feature_1  feature_2  label\n",
       "0   2.128618   1.965428    1.0\n",
       "1  -1.514191  -0.241518    0.0\n",
       "2   0.511398  -0.305790    0.0\n",
       "3  -0.646932  -1.329287    0.0\n",
       "4   2.036234   2.117991    1.0"
      ]
     },
     "execution_count": 2,
     "metadata": {},
     "output_type": "execute_result"
    }
   ],
   "source": [
    "df = pd.DataFrame(np.c_[X, y], columns=['feature_{:.0f}'.format(i+1) for i in range(M)] + ['label'])\n",
    "df.head()"
   ]
  },
  {
   "cell_type": "code",
   "execution_count": 3,
   "metadata": {},
   "outputs": [
    {
     "data": {
      "text/plain": [
       "<matplotlib.collections.PathCollection at 0x24ed87b07f0>"
      ]
     },
     "execution_count": 3,
     "metadata": {},
     "output_type": "execute_result"
    },
    {
     "data": {
      "image/png": "[encoded data removed]",
      "text/plain": [
       "<Figure size 432x288 with 1 Axes>"
      ]
     },
     "metadata": {
      "needs_background": "light"
     },
     "output_type": "display_data"
    }
   ],
   "source": [
    "X_train, X_test, y_train, y_test = train_test_split(X, y, test_size=0.2)\n",
    "plt.scatter(X[:, 0], X[:, 1], c=y)"
   ]
  },
  {
   "cell_type": "code",
   "execution_count": 4,
   "metadata": {},
   "outputs": [
    {
     "data": {
      "text/plain": [
       "array([[-0.32274412,  1.10073614,  1.        ],\n",
       "       [ 1.07589171,  1.80602164,  1.        ]])"
      ]
     },
     "execution_count": 4,
     "metadata": {},
     "output_type": "execute_result"
    }
   ],
   "source": [
    "X_train = np.c_[X_train, np.ones((X_train.shape[0], 1))]\n",
    "X_test = np.c_[X_test, np.ones((X_test.shape[0], 1))]\n",
    "\n",
    "X_train[:2]"
   ]
  },
  {
   "cell_type": "code",
   "execution_count": 5,
   "metadata": {},
   "outputs": [
    {
     "data": {
      "text/plain": [
       "[<matplotlib.lines.Line2D at 0x24ed8862ef0>]"
      ]
     },
     "execution_count": 5,
     "metadata": {},
     "output_type": "execute_result"
    },
    {
     "data": {
      "image/png": "[encoded data removed]",
      "text/plain": [
       "<Figure size 432x288 with 1 Axes>"
      ]
     },
     "metadata": {
      "needs_background": "light"
     },
     "output_type": "display_data"
    }
   ],
   "source": [
    "def sigmoid(x):\n",
    "    return 1/(1+np.exp(-x))\n",
    "\n",
    "sx = np.linspace(-10, 10, 1000)\n",
    "sy = sigmoid(sx)\n",
    "plt.plot(sx, sy, lw=3)\n",
    "plt.plot([-10, 10], [0, 0], c='k', lw=1)\n",
    "plt.plot([0, 0], [0, 1], c='k', lw=1)"
   ]
  },
  {
   "cell_type": "code",
   "execution_count": 6,
   "metadata": {},
   "outputs": [],
   "source": [
    "def predict(w, X):\n",
    "    yhat = [1 if v < 0.5 else 0 for v in sigmoid(X@w)]\n",
    "    return yhat"
   ]
  },
  {
   "cell_type": "code",
   "execution_count": 7,
   "metadata": {},
   "outputs": [
    {
     "data": {
      "text/plain": [
       "0.625"
      ]
     },
     "execution_count": 7,
     "metadata": {},
     "output_type": "execute_result"
    }
   ],
   "source": [
    "def cost(w, X, y):\n",
    "    yhat = predict(w, X)\n",
    "    return 1-accuracy_score(y, yhat)\n",
    "\n",
    "w = np.random.rand(X_train.shape[1], 1)\n",
    "cost(w, X_train, y_train)"
   ]
  },
  {
   "cell_type": "markdown",
   "metadata": {},
   "source": [
    "使用梯度下降法求最佳参数\n",
    "\n",
    "令$\\frac{\\partial \\mathcal L(\\mathbf w)}{\\partial \\mathbf w} = 0$得到:\n",
    "\n",
    "$$\n",
    "d \\mathbf w = \\sum_{i=1}^N\\left(y_i-\\frac{1}{1+exp(\\mathbf w^T\\mathbf x_i)}\\right) \\mathbf x_i\n",
    "$$"
   ]
  },
  {
   "cell_type": "code",
   "execution_count": 8,
   "metadata": {},
   "outputs": [
    {
     "data": {
      "text/plain": [
       "Text(0.5, 1.0, 'final acc = 0.90')"
      ]
     },
     "execution_count": 8,
     "metadata": {},
     "output_type": "execute_result"
    },
    {
     "data": {
      "image/png": "[encoded data removed]",
      "text/plain": [
       "<Figure size 432x288 with 1 Axes>"
      ]
     },
     "metadata": {
      "needs_background": "light"
     },
     "output_type": "display_data"
    }
   ],
   "source": [
    "costs = []\n",
    "def train(X, y, maxiter=1000, alpha=0.01):\n",
    "    w = np.random.rand(X.shape[1], 1)\n",
    "    y = y.reshape(-1, 1)\n",
    "    for epoch in range(maxiter):\n",
    "        yhat = X@w\n",
    "        dw = X.T@(y - 1/(1+np.exp(yhat)))\n",
    "        w -= alpha*dw\n",
    "        costs.append(cost(w, X, y))\n",
    "    return w\n",
    "\n",
    "w = train(X_train, y_train)\n",
    "plt.plot([i for i in range(len(costs))], costs)\n",
    "ypred = predict(w, X_test)\n",
    "acc = accuracy_score(ypred, y_test)\n",
    "plt.title('final acc = {:.2f}'.format(acc))"
   ]
  },
  {
   "cell_type": "code",
   "execution_count": 9,
   "metadata": {},
   "outputs": [
    {
     "data": {
      "text/plain": [
       "<matplotlib.collections.PathCollection at 0x24ed8960780>"
      ]
     },
     "execution_count": 9,
     "metadata": {},
     "output_type": "execute_result"
    },
    {
     "data": {
      "image/png": "[encoded data removed]",
      "text/plain": [
       "<Figure size 1080x720 with 1 Axes>"
      ]
     },
     "metadata": {
      "needs_background": "light"
     },
     "output_type": "display_data"
    }
   ],
   "source": [
    "plt.figure(figsize=(15, 10))\n",
    "norm = Normalize(vmin=0, vmax=1)\n",
    "plt.scatter(X_train[:, 0], X_train[:, 1], cmap=cmap, c=y_train, s = 20)\n",
    "plt.scatter(X_test[:, 0], X_test[:, 1], marker='o', fc='w', s=100, ec=[cmap(v) for v in norm(ypred)])"
   ]
  },
  {
   "cell_type": "markdown",
   "metadata": {},
   "source": [
    "使用SGD求最佳参数"
   ]
  },
  {
   "cell_type": "code",
   "execution_count": 10,
   "metadata": {},
   "outputs": [
    {
     "data": {
      "text/plain": [
       "Text(0.5, 1.0, 'final acc = 0.90')"
      ]
     },
     "execution_count": 10,
     "metadata": {},
     "output_type": "execute_result"
    },
    {
     "data": {
      "image/png": "[encoded data removed]",
      "text/plain": [
       "<Figure size 432x288 with 1 Axes>"
      ]
     },
     "metadata": {
      "needs_background": "light"
     },
     "output_type": "display_data"
    }
   ],
   "source": [
    "costs = []\n",
    "def train_sgd(X, y, maxiter=10, alpha=0.01):\n",
    "    w = np.random.rand(X.shape[1], 1)\n",
    "    for epoch in range(maxiter):\n",
    "        for _ in range(X.shape[0]):\n",
    "            i = np.random.randint(0, X.shape[0])\n",
    "            xi = X[i].reshape(-1, 1)\n",
    "            yi = y[i]\n",
    "            yhat = (w.T@xi).item(0)\n",
    "            dw = (yi-1/(1+math.exp(yhat)))*xi\n",
    "            w -= dw*alpha\n",
    "            costs.append(cost(w, X, y))\n",
    "    return w\n",
    "    \n",
    "    \n",
    "w = train(X_train, y_train)\n",
    "ypred = predict(w, X_test)\n",
    "acc = accuracy_score(ypred, y_test)\n",
    "plt.plot([i for i in range(len(costs))], costs)\n",
    "plt.title('final acc = {:.2f}'.format(acc))"
   ]
  },
  {
   "cell_type": "code",
   "execution_count": 11,
   "metadata": {},
   "outputs": [
    {
     "data": {
      "text/plain": [
       "<matplotlib.collections.PathCollection at 0x24ed89ecc50>"
      ]
     },
     "execution_count": 11,
     "metadata": {},
     "output_type": "execute_result"
    },
    {
     "data": {
      "image/png": "[encoded data removed]",
      "text/plain": [
       "<Figure size 1080x720 with 1 Axes>"
      ]
     },
     "metadata": {
      "needs_background": "light"
     },
     "output_type": "display_data"
    }
   ],
   "source": [
    "plt.figure(figsize=(15, 10))\n",
    "norm = Normalize(vmin=0, vmax=1)\n",
    "plt.scatter(X_train[:, 0], X_train[:, 1], cmap=cmap, c=y_train, s = 20)\n",
    "plt.scatter(X_test[:, 0], X_test[:, 1], marker='o', fc='w', s=100, ec=[cmap(v) for v in norm(ypred)])"
   ]
  },
  {
   "cell_type": "markdown",
   "metadata": {},
   "source": [
    "# 最大熵模型\n",
    "\n",
    "假设模型是概率分布$P(Y|X)$,给定训练集$T=\\{(x_1, y_1), (x_2, y_2), \\cdots, (x_n, y_n)\\}$的经验联合分布和经验边缘分布分别是:\n",
    "\n",
    "$$\n",
    "\\tilde P(X=x, Y=y)=\\frac{count(X=x, Y=y)}{N} \\\\\n",
    "\\tilde P(X=x)=\\frac{count(X=x)}{N}\n",
    "$$\n",
    "\n",
    "用特征函数$f(x,y)$表示输入$x$和输出$y$之间的某一事实,其定义为:\n",
    "\n",
    "$$\n",
    "f(x, y)=\n",
    "\\begin{cases}\n",
    "1, & x与y满足某一事实\\\\\n",
    "0, & otherwise\n",
    "\\end{cases}\n",
    "$$\n",
    "\n",
    "特征函数$f(x, y)$关于经验分布$\\tilde P(X,Y)$的期望值:\n",
    "\n",
    "$$\n",
    "E_{\\tilde P}(f) = \\sum_{x, y}\\tilde P(x, y)f(x, y)\n",
    "$$\n",
    "\n",
    "特征函数$f(x, y)$关于模型$P(Y|X)$的期望值:\n",
    "\n",
    "$$\n",
    "E_P(f)=\\sum_{x, y}\\tilde P(x)P(y|x)f(x, y)\n",
    "$$\n",
    "\n",
    "\n",
    "假设两个期望相等,即:\n",
    "\n",
    "$$\n",
    "E_P{f}=E_{\\tilde P}(f)\n",
    "$$\n",
    "\n",
    "或者\n",
    "\n",
    "$$\n",
    "\\sum_{x,y}\\tilde P(x)P(y|x)f(x, y) = \\sum_{x,y}\\tilde P(x, y)f(x, y)\n",
    "$$\n",
    "\n",
    "最大熵模型即在条件概率分布$P(Y|X)$上的条件熵最大:\n",
    "\n",
    "$$\n",
    "\\underset {P\\in C} H(P)=-\\sum_{x,y}\\tilde P(x)P(y|x)log P(y|x) \\\\\n",
    "s.t. E_P(f_i)=E_{\\tilde P}(f_i), \\\\\n",
    "\\sum_y P(y|x)=1\n",
    "$$\n",
    "\n",
    "其中$C$是所有满足约束条件的模型集合\n",
    "\n",
    "按照极大似然估计写成最大熵更一般的形式, 即是由以下条件概率分布表示的分类模型.可以用于二分类或者多分类:\n",
    "\n",
    "$$\n",
    "P_w(y|x)=\\frac{1}{Z_w(x)}exp\\left(\\sum_{i=1}^nw_if_i(x, y)\\right)\n",
    "$$\n",
    "\n",
    "其中,\n",
    "\n",
    "$$\n",
    "Z_w(x)=\\sum_y exp\\left(\\sum_{i=1}^nw_if_i(x, y)\\right)\n",
    "$$\n",
    "\n",
    "这里$x \\in \\mathcal R^n$为输入,$y \\in \\{1, 2, \\cdots, K\\}$为输出,$w \\in \\mathcal R^n$为权值向量,$f_i(x, y), i=1, 2, \\ldots, n$为任意特征值函数.\n",
    "\n",
    "\n",
    "\n",
    "特征函数$f(x, y)$关于经验分布$\\tilde P(Y|X)$\n",
    "\n",
    "## 改进的尺度迭代法(improved iterative scaling, IIS)\n",
    "\n",
    "输入: 特征函数$f_1, f_2,\\ldots, f_n$;经验分布$\\tilde P(X, Y)$,模型$P_w(y|x)$\n",
    "\n",
    "输出: 最优参数$w^*$;最优模型$P_{w^*}$;\n",
    "\n",
    "1. 初始化$w_i=0$\n",
    "2. 对每个$i \\in \\{1, 2, \\ldots, n\\}$\n",
    "    1. 令$\\delta_i$ 是方程\n",
    "        $$\n",
    "            \\sum_{x,y}\\tilde P(x)P(y|x)f_i(x, y)exp(\\delta_if^\\#(x, y))=E_{\\tilde P}(f_i) \\\\\n",
    "            写成 g(\\delta_i^*)=0\n",
    "        $$\n",
    "        \n",
    "       的解, 其中$f^\\#(x,y)=\\sum_{i=1}^nf_i(x, y)$\n",
    "    2. 更新$w_i$的值:$w_i = w_i+\\delta_i$\n",
    "3. 如果不是所有的$w_i$都已经收敛,重复(2)\n",
    "\n",
    "如果$f^\\#(x, y)$是常数$M$,因为$\\delta_i$是$\\sum_{x,y}\\tilde P(x)P(y|x)f_i(x, y)exp(\\delta_if^\\#(x, y))-E_{\\tilde P}(f_i)=0$的解，所以：\n",
    "\n",
    "$$\n",
    "\\begin{aligned}\n",
    "& \\sum_{x,y}\\tilde P(x)P(y|x)f_i(x, y)exp(\\delta_if^\\#(x, y))-E_{\\tilde P}(f_i)=0 \\\\\n",
    "& \\Rightarrow exp(\\delta_if^\\#(x, y))E_P(f_i)-E_{\\tilde P}(f_i)=0 \\\\\n",
    "& \\Rightarrow exp(\\delta_if^\\#(x, y)) = \\frac{E_{\\tilde P}(f_i)}{E_P(f_i)} \\\\\n",
    "& \\Rightarrow \\delta_if^\\#(x, y)= log\\frac{E_{\\tilde P}(f_i)}{E_P(f_i)} \\\\\n",
    "& \\Rightarrow \\delta_i=\\frac{1}{M}log\\frac{E_{\\tilde P}(f_i)}{E_P(f_i)}\n",
    "\\end{aligned}\n",
    "$$\n",
    "\n",
    "否则通过牛顿法迭代求$\\delta_i^*$,即:\n",
    "\n",
    "$$\n",
    "\\delta_i^{(k+1)} = \\delta_i^{(k)}-\\frac{g(\\delta_i^{(k)})}{g'(\\delta_i^{(k)})}\n",
    "$$"
   ]
  },
  {
   "cell_type": "code",
   "execution_count": 12,
   "metadata": {},
   "outputs": [],
   "source": [
    "import collections\n",
    "dataset = [['no', 'sunny', 'hot', 'high', 'FALSE'],\n",
    "           ['no', 'sunny', 'hot', 'high', 'TRUE'],\n",
    "           ['yes', 'overcast', 'hot', 'high', 'FALSE'],\n",
    "           ['yes', 'rainy', 'mild', 'high', 'FALSE'],\n",
    "           ['yes', 'rainy', 'cool', 'normal', 'FALSE'],\n",
    "           ['no', 'rainy', 'cool', 'normal', 'TRUE'],\n",
    "           ['yes', 'overcast', 'cool', 'normal', 'TRUE'],\n",
    "           ['no', 'sunny', 'mild', 'high', 'FALSE'],\n",
    "           ['yes', 'sunny', 'cool', 'normal', 'FALSE'],\n",
    "           ['yes', 'rainy', 'mild', 'normal', 'FALSE'],\n",
    "           ['yes', 'sunny', 'mild', 'normal', 'TRUE'],\n",
    "           ['yes', 'overcast', 'mild', 'high', 'TRUE'],\n",
    "           ['yes', 'overcast', 'hot', 'normal', 'FALSE'],\n",
    "           ['no', 'rainy', 'mild', 'high', 'TRUE']]"
   ]
  },
  {
   "cell_type": "markdown",
   "metadata": {},
   "source": [
    "MaxEntropy的EP是特征函数$f(x, y)$关于经验分布$\\tilde P(X,Y)$的期望值:\n",
    "\n",
    "$$\n",
    "E_{\\tilde P}(f) = \\sum_{x, y}\\tilde P(x, y)f(x, y)\n",
    "$$"
   ]
  },
  {
   "cell_type": "code",
   "execution_count": 25,
   "metadata": {},
   "outputs": [],
   "source": [
    "class MaxEntropy:\n",
    "    def __init__(self, EPS=0.001):\n",
    "        self.samples = []\n",
    "        self.x = set()\n",
    "        self.y = set()\n",
    "        self.N = 0 # 样本数量\n",
    "        self.n = 0 # 不同的(x, y)的数量\n",
    "        self.w = [] # parameter\n",
    "        self.eps = EPS\n",
    "        self.lastw = [] # last parameter\n",
    "        self.countXy = collections.defaultdict(int) # count of (x, y)\n",
    "        self.xyId = {} # id of (x, y)\n",
    "        self.idXy = {} # (x, y) of id\n",
    "        self.EP = [] # 样本分布的期望特征值\n",
    "        self.C = 0 # 最大特征数量\n",
    "        \n",
    "    def load_data(self, dataset):\n",
    "        self.samples = dataset.copy()\n",
    "        self.N = len(dataset)\n",
    "        self.C = max([len(sample)-1 for sample in self.samples])\n",
    "        self.y = set()\n",
    "        self.countXy = collections.defaultdict(int)\n",
    "        self.xyId = {} # id of (x, y)\n",
    "        self.idXy = {} # (x, y) of id\n",
    "        \n",
    "        for items in self.samples:\n",
    "            X, y = items[1:], items[0]\n",
    "            self.y.add(y)\n",
    "            for x in X:\n",
    "                self.countXy[(x, y)] += 1\n",
    "                self.x.add(x)\n",
    "        \n",
    "        n = len(self.countXy)\n",
    "        self.n = n\n",
    "        self.w = np.zeros(n)\n",
    "        self.lastw = np.ones(n)\n",
    "        \n",
    "        self.EP = np.zeros(n)\n",
    "        for i, xyc in enumerate(self.countXy.items()):\n",
    "            xy, c = xyc\n",
    "            self.EP[i] = c/self.N\n",
    "            self.xyId[xy] = i\n",
    "            self.idXy[i] = xy\n",
    "        \n",
    "        \n",
    "enc = MaxEntropy()\n",
    "enc.load_data(dataset)"
   ]
  },
  {
   "cell_type": "markdown",
   "metadata": {},
   "source": [
    "计算$Z_w(x)=\\sum_y exp\\left(\\sum_{i=1}^nw_if_i(x, y)\\right)$"
   ]
  },
  {
   "cell_type": "code",
   "execution_count": 14,
   "metadata": {},
   "outputs": [
    {
     "data": {
      "text/plain": [
       "2.0"
      ]
     },
     "execution_count": 14,
     "metadata": {},
     "output_type": "execute_result"
    }
   ],
   "source": [
    "def zwx(enc, X):\n",
    "    zx = 0\n",
    "    for y in enc.y:\n",
    "        ss = np.sum([enc.w[enc.xyId[(x, y)]] for x in X if enc.countXy[(x, y)]>0])\n",
    "#         for x in X:\n",
    "#             print(ss, enc.countXy[(x, y)], x,y)\n",
    "        zx += np.exp(ss)\n",
    "    return zx\n",
    "\n",
    "zwx(enc, dataset[0][1:])"
   ]
  },
  {
   "cell_type": "markdown",
   "metadata": {},
   "source": [
    "计算$P_w(y|x)=\\frac{1}{Z_w(x)}exp\\left(\\sum_{i=1}^nw_if_i(x, y)\\right)$"
   ]
  },
  {
   "cell_type": "code",
   "execution_count": 15,
   "metadata": {},
   "outputs": [
    {
     "data": {
      "text/plain": [
       "0.5"
      ]
     },
     "execution_count": 15,
     "metadata": {},
     "output_type": "execute_result"
    }
   ],
   "source": [
    "def model_pyx(enc, y, X):\n",
    "    zx = zwx(enc, X)\n",
    "    ss = np.sum([enc.w[enc.xyId[(x, y)]] for x in X if enc.countXy[(x, y)] > 0])\n",
    "    return np.exp(ss)/zx\n",
    "\n",
    "model_pyx(enc, dataset[0][0], dataset[0][1:])    "
   ]
  },
  {
   "cell_type": "markdown",
   "metadata": {},
   "source": [
    "特征函数$f(x, y)$关于模型$P(Y|X)$的期望值:\n",
    "\n",
    "$$\n",
    "E_P(f)=\\sum_{x, y}\\tilde P(x)P(y|x)f(x, y)\n",
    "$$"
   ]
  },
  {
   "cell_type": "code",
   "execution_count": 16,
   "metadata": {},
   "outputs": [
    {
     "data": {
      "text/plain": [
       "0.17857142857142855"
      ]
     },
     "execution_count": 16,
     "metadata": {},
     "output_type": "execute_result"
    }
   ],
   "source": [
    "def model_ep(enc, index):\n",
    "    x, y = enc.idXy[index]\n",
    "    ep = 0\n",
    "    for sample in enc.samples:\n",
    "        if x not in sample:\n",
    "            continue\n",
    "        pyx = model_pyx(enc, y, sample)\n",
    "        ep += pyx/enc.N\n",
    "    \n",
    "    return ep\n",
    "\n",
    "model_ep(enc, 0)"
   ]
  },
  {
   "cell_type": "markdown",
   "metadata": {},
   "source": [
    "判断是否完全收敛"
   ]
  },
  {
   "cell_type": "code",
   "execution_count": 17,
   "metadata": {},
   "outputs": [
    {
     "data": {
      "text/plain": [
       "False"
      ]
     },
     "execution_count": 17,
     "metadata": {},
     "output_type": "execute_result"
    }
   ],
   "source": [
    "def model_converge(enc):\n",
    "    return all([v < enc.eps for v in enc.lastw-enc.w])\n",
    "\n",
    "model_converge(enc)"
   ]
  },
  {
   "cell_type": "markdown",
   "metadata": {},
   "source": [
    "训练模型\n",
    "\n",
    "如果$f^\\#(x, y)$是常数,则$\\delta_i$可表示为:\n",
    "\n",
    "$$\n",
    "\\delta_i=\\frac{1}{M}log\\frac{E_{\\tilde P}(f_i)}{E_P(f_i)}\n",
    "$$\n"
   ]
  },
  {
   "cell_type": "code",
   "execution_count": 18,
   "metadata": {},
   "outputs": [],
   "source": [
    "def train(enc, maxiter=1000):\n",
    "    for epoch in range(maxiter):\n",
    "        enc.lastw[:] = enc.w # or enc.lastw = np.array(enc.w), can't be enc.lastw = enc.w[:]\n",
    "        for i in range(enc.n):\n",
    "            ep = model_ep(enc, i)\n",
    "            enc.w[i] += math.log(enc.EP[i]/ep)/enc.C\n",
    "        if model_converge(enc):\n",
    "            break\n",
    "train(enc)"
   ]
  },
  {
   "cell_type": "markdown",
   "metadata": {},
   "source": [
    "$$\n",
    "P_w(y|x) = \\frac{1}{Z_w(x)}exp\\left(\\sum_{i=1}^nw_if_i(x, y)\\right)\n",
    "$$\n",
    "\n",
    "这里取\n",
    "$$\n",
    "f_i(x, y) = 1\n",
    "$$"
   ]
  },
  {
   "cell_type": "code",
   "execution_count": 19,
   "metadata": {},
   "outputs": [
    {
     "data": {
      "text/plain": [
       "{'no': 4.776792073973857e-07, 'yes': 0.9999995223207926}"
      ]
     },
     "execution_count": 19,
     "metadata": {},
     "output_type": "execute_result"
    }
   ],
   "source": [
    "def predict(enc, X):\n",
    "    z = zwx(enc, X)\n",
    "    result = {}\n",
    "    for y in enc.y:\n",
    "        ss = np.sum([enc.w[enc.xyId[(x, y)]] for x in X if enc.countXy[(x, y)] > 0])\n",
    "        pyx = math.exp(ss)/z\n",
    "        result[y] = pyx\n",
    "    \n",
    "    return result\n",
    "\n",
    "predict(enc, ['overcast', 'mild', 'high', 'FALSE'])"
   ]
  },
  {
   "cell_type": "markdown",
   "metadata": {},
   "source": [
    "## 梯度下降\n",
    "\n",
    "$$\n",
    "\\frac{\\partial f(w)}{\\partial w_i} = \\sum_{x,y}\\tilde P(x)P_w(y|x)f_i(x, y)-E_{\\tilde P}(f_i)=E_P(f_i)-E_{\\tilde P}(f_i), i=1, 2, \\ldots, n\n",
    "$$"
   ]
  },
  {
   "cell_type": "code",
   "execution_count": 24,
   "metadata": {},
   "outputs": [
    {
     "data": {
      "text/plain": [
       "{'no': 1.4557100033893119e-06, 'yes': 0.9999985442899966}"
      ]
     },
     "execution_count": 24,
     "metadata": {},
     "output_type": "execute_result"
    }
   ],
   "source": [
    "def train(enc, maxiter=1000):\n",
    "    for epoch in range(maxiter):\n",
    "        enc.lastw[:] = enc.w # or enc.lastw = np.array(enc.w), can't be enc.lastw = enc.w[:]\n",
    "        for i in range(enc.n):\n",
    "            ep = model_ep(enc, i)\n",
    "            dw = ep - enc.EP[i]\n",
    "            enc.w[i] -= dw\n",
    "#             enc.w[i] += math.log(enc.EP[i]/ep)/enc.C\n",
    "        if model_converge(enc):\n",
    "            break\n",
    "\n",
    "enc = MaxEntropy()\n",
    "enc.load_data(dataset)\n",
    "train(enc)\n",
    "predict(enc, ['overcast', 'mild', 'high', 'FALSE'])"
   ]
  },
  {
   "cell_type": "markdown",
   "metadata": {},
   "source": [
    "## 牛顿法\n",
    "\n",
    "$$\n",
    "\\delta_i^{(k+1)} = \\delta_i^{(k)}-\\frac{g(\\delta_i^{(k)})}{g'(\\delta_i^{(k)})}\n",
    "$$\n",
    "\n",
    "其中：\n",
    "\n",
    "$$\n",
    "g(\\delta_i) = \\sum_{x,y}\\tilde P(x)P(y|x)f_i(x, y)exp(\\delta_if^\\#(x, y))-E_{\\tilde P}(f_i)\n",
    "$$\n",
    "\n",
    "$$\n",
    "g'(\\delta_i^{(k)}) = f^\\#(x, y)\\sum_{x,y}\\tilde P(x)P(y|x)f_i(x, y)exp(\\delta_if^\\#(x, y))\n",
    "$$\n",
    "\n",
    "\n",
    "$$\n",
    "\\begin{aligned}\n",
    "\\delta_i^{(k+1)} &= \\delta_i^{(k)}-\\frac{g(\\delta_i^{(k)})}{g'(\\delta_i^{(k)})} \\\\\n",
    "&= \\delta_i^{(k)}- \\frac{\\sum_{x,y}\\tilde P(x)P(y|x)f_i(x, y)exp(\\delta_if^\\#(x, y))-E_{\\tilde P}(f_i)}{f^\\#(x, y)\\sum_{x,y}\\tilde P(x)P(y|x)f_i(x, y)exp(\\delta_if^\\#(x, y))} \\\\\n",
    "&= \\delta_i^{(k)}- \\frac{E_P(f_i)exp(\\delta_if^\\#(x, y))-E_{\\tilde P(f_i)}}{f^\\#(x, y)E_P(f_i)exp(\\delta_if^\\#(x, y))} \\\\\n",
    "&= \\delta_i^{(k)}- \\frac{E_P(f_i)exp(\\delta_iM)-E_{\\tilde P(f_i)}}{ME_P(f_i)exp(\\delta_iM)} \\\\\n",
    "&= \\delta_i^{(k)}- (\\frac{1}{M}-\\frac{E_{\\tilde P(f_i)}}{ME_P(f_i)exp(\\delta_iM)})\n",
    "\\end{aligned}\n",
    "$$"
   ]
  },
  {
   "cell_type": "code",
   "execution_count": 21,
   "metadata": {},
   "outputs": [
    {
     "data": {
      "text/plain": [
       "0.0009073220320406916"
      ]
     },
     "execution_count": 21,
     "metadata": {},
     "output_type": "execute_result"
    }
   ],
   "source": [
    "def cal_delta(enc, index, eps=0.0001):\n",
    "    w = enc.w[index]\n",
    "    delta = 1.0\n",
    "    p = model_ep(enc, index)\n",
    "    ep = enc.EP[index]\n",
    "    m = enc.C\n",
    "    while True:\n",
    "        delta_new = delta - (1/m-ep/(m*p*math.exp(m*delta)))\n",
    "        if abs(delta_new-delta)<eps:\n",
    "            break\n",
    "        delta = delta_new\n",
    "    return delta\n",
    "\n",
    "cal_delta(enc, 0)"
   ]
  },
  {
   "cell_type": "code",
   "execution_count": 22,
   "metadata": {},
   "outputs": [
    {
     "name": "stdout",
     "output_type": "stream",
     "text": [
      "[  4.37272765   0.03265379   1.87946734  -5.11157897   2.07657925\n",
      "   6.0454921   -0.12463117  -2.56927295   1.70262214  -2.15920066\n",
      "   2.18199167  -1.44364207   1.96134872   3.37931552   4.46036501\n",
      " -10.90910257  -2.15738619  -3.96211106  -6.48511167]\n"
     ]
    },
    {
     "data": {
      "text/plain": [
       "{'no': 4.773307831028548e-07, 'yes': 0.999999522669217}"
      ]
     },
     "execution_count": 22,
     "metadata": {},
     "output_type": "execute_result"
    }
   ],
   "source": [
    "def train(enc, maxiter=1000, eps=0.001):\n",
    "    for epoch in range(maxiter):\n",
    "        enc.lastw[:] = enc.w # or enc.lastw = np.array(enc.w), can't be enc.lastw = enc.w[:]\n",
    "        for i in range(enc.n):            \n",
    "            enc.w[i] += cal_delta(enc, i)\n",
    "        if model_converge(enc):\n",
    "            print('DONE!')\n",
    "            break\n",
    "\n",
    "enc = MaxEntropy()\n",
    "enc.load_data(dataset)\n",
    "train(enc)\n",
    "print(enc.w)\n",
    "predict(enc, ['overcast', 'mild', 'high', 'FALSE'])"
   ]
  },
  {
   "cell_type": "markdown",
   "metadata": {},
   "source": [
    "## DFP 算法\n",
    "输入：目标函数$f(x)$，梯度$g(x)=\\nabla f(x)$，精度要求$\\epsilon$\n",
    "\n",
    "输出： $f(x)$的极小值点$x^\\star$\n",
    "\n",
    "1. 选定初始点$x^{(0)}$，取$G_0$为正定矩阵，置$k=0$\n",
    "2. 计算$g_k=g(x^{(k)})$。若$\\Vert g_k \\Vert \\lt \\epsilon$，则停止计算，得近似解$x^\\star = x^{(k)}$；否则转(3)。\n",
    "3. 置$p_k=-G_kg_k$\n",
    "4. 一维搜索，即搜索$\\lambda_k=1,2,3,\\cdots$，求$\\lambda_k$使得\n",
    "$$\n",
    "f(x^{(k)}+\\lambda_kp_k)=\\underset{\\lambda \\geq 0}{\\min}f(x^{(k)}+\\lambda p_k)\n",
    "$$\n",
    "5. 置 $x^{(k+1)}=x^{(k)}+\\lambda_kp_k$\n",
    "6. 计算$g_{k+1}=g(x^{(k+1)})$，若$\\Vert g_{k+1}\\Vert \\lt \\epsilon$，则停止计算，得近似解$x^\\star=x^{(k+1)}$；否则计算:\n",
    "$$\n",
    "G_{k+1}=G_k+\\frac{\\delta_k\\delta_k^T}{\\delta_k^Ty_k}-\\frac{G_ky_ky_k^TG_k}{y_k^TG_ky_k}\n",
    "$$\n",
    "其中\n",
    "$$\n",
    "y_k = G_k\\delta_k\n",
    "$$\n",
    "7. 置$k=k+1$，转(3)\n",
    "\n",
    "对最大熵模型而言：\n",
    "\n",
    "$$\n",
    "P_w(y|x)=\\frac{exp\\left(\\sum_{i=1}^n w_i f_i(x, y)\\right)}{\\sum_y exp\\left(\\sum_{i=1}^n w_i f_i(x, y)\\right)}\n",
    "$$\n",
    "\n",
    "目标函数：\n",
    "$$\n",
    "\\underset{w\\in R^n}{\\min}\\ f(w)=\\sum_x \\tilde P(x)log\\ \\sum_y exp\\left(\\sum_{i=1}^n w_i f_i(x, y)\\right)-\\sum_{x, y} \\tilde P(x, y)\\sum_{i=1}^n w_i f_w(x, y)\n",
    "$$\n",
    "\n",
    "梯度：\n",
    "$$\n",
    "g(w)=\\left(\\frac{\\partial f(w)}{\\partial w_1}, \\frac{\\partial f(w)}{\\partial w_2}, \\cdots, \\frac{\\partial f(w)}{\\partial w_n} \\right)^T\n",
    "$$\n",
    "\n",
    "其中：\n",
    "$$\n",
    "\\frac{\\partial f(w)}{\\partial w_i}=\\sum_{x, y}\\tilde P(x)P_w(y|x)f_i(x, y)-E_{\\tilde P}(f_i)=E_P(f_i)-E_{\\tilde P}(f_i), i=1, 2, \\cdots, n\n",
    "$$"
   ]
  },
  {
   "cell_type": "code",
   "execution_count": 35,
   "metadata": {},
   "outputs": [
    {
     "name": "stdout",
     "output_type": "stream",
     "text": [
      "step: 10 w: [ 0.42442533  0.10723444  0.33320304 -0.4729843   0.20051219  0.8898315\n",
      " -0.10723444 -0.33320304  0.4729843  -0.19293405  0.32545197  0.05425458\n",
      "  0.60567515  0.19293405 -0.05425458 -0.60567515 -0.20051219 -0.32545197\n",
      " -0.42442533]\n",
      "step: 20 w: [ 0.66003386  0.1527472   0.47034397 -0.63353198  0.29652903  1.40165357\n",
      " -0.1527472  -0.47034397  0.63353198 -0.40461676  0.54021481 -0.05046466\n",
      "  0.80734692  0.40461676  0.05046466 -0.80734692 -0.29652903 -0.54021481\n",
      " -0.66003386]\n",
      "step: 30 w: [ 0.83739774  0.17504888  0.58287022 -0.75125711  0.36497257  1.76613463\n",
      " -0.17504888 -0.58287022  0.75125711 -0.54245235  0.69585052 -0.1345171\n",
      "  0.96915476  0.54245235  0.1345171  -0.96915476 -0.36497257 -0.69585052\n",
      " -0.83739774]\n",
      "step: 40 w: [ 0.98505779  0.18495995  0.68162855 -0.84855265  0.42205589  2.0499215\n",
      " -0.18495995 -0.68162855  0.84855265 -0.63836694  0.81924597 -0.20778926\n",
      "  1.10812531  0.63836694  0.20778926 -1.10812531 -0.42205589 -0.81924597\n",
      " -0.98505779]\n",
      "step: 50 w: [ 1.11325187  0.18778884  0.77077304 -0.9328195   0.47231838  2.28351247\n",
      " -0.18778884 -0.77077304  0.9328195  -0.70975948  0.92326197 -0.27497201\n",
      "  1.23127416  0.70975948  0.27497201 -1.23127416 -0.47231838 -0.92326197\n",
      " -1.11325187]\n",
      "step: 60 w: [ 1.22717501  0.18639024  0.8526861  -1.00782079  0.51777194  2.48303595\n",
      " -0.18639024 -0.8526861   1.00782079 -0.76581208  1.01430416 -0.33786507\n",
      "  1.34273496  0.76581208  0.33786507 -1.34273496 -0.51777194 -1.01430416\n",
      " -1.22717501]\n",
      "step: 70 w: [ 1.33003444  0.18240637  0.92883982 -1.07583913  0.55956839  2.65798051\n",
      " -0.18240637 -0.92883982  1.07583913 -0.81167533  1.09591425 -0.39723714\n",
      "  1.44511056  0.81167533  0.39723714 -1.44511056 -0.55956839 -1.09591425\n",
      " -1.33003444]\n",
      "step: 80 w: [ 1.42401909  0.17683531  1.00020483 -1.13837926  0.59845165  2.81437774\n",
      " -0.17683531 -1.00020483  1.13837926 -0.85043104  1.17025005 -0.45348713\n",
      "  1.54013244  0.85043104  0.45348713 -1.54013244 -0.59845165 -1.17025005\n",
      " -1.42401909]\n",
      "step: 90 w: [ 1.51070931  0.17030851  1.06746464 -1.19648568  0.63493473  2.95628957\n",
      " -0.17030851 -1.06746464  1.19648568 -0.88402931  1.23873525 -0.50687579\n",
      "  1.62901559  0.88402931  0.50687579 -1.62901559 -0.63493473 -1.23873525\n",
      " -1.51070931]\n",
      "step: 100 w: [ 1.59128909  0.16323685  1.13112942 -1.25091208  0.66938776  3.08657612\n",
      " -0.16323685 -1.13112942  1.25091208 -0.91376271  1.30237035 -0.55760918\n",
      "  1.71265374  0.91376271  0.55760918 -1.71265374 -0.66938776 -1.30237035\n",
      " -1.59128909]\n",
      "step: 110 w: [ 1.66667035  0.15589264  1.19159847 -1.30221995  0.70208769  3.20732383\n",
      " -0.15589264 -1.19159847  1.30221995 -0.94052122  1.36189385 -0.60586895\n",
      "  1.79173074  0.94052122  0.60586895 -1.79173074 -0.70208769 -1.36189385\n",
      " -1.66667035]\n",
      "step: 120 w: [ 1.73757118  0.14845824  1.24919581 -1.35083934  0.73324836  3.32009928\n",
      " -0.14845824 -1.24919581  1.35083934 -0.96493712  1.41787211 -0.6518229\n",
      "  1.86678679  0.96493712  0.6518229  -1.86678679 -0.73324836 -1.41787211\n",
      " -1.73757118]\n",
      "step: 130 w: [ 1.80456753  0.14105617  1.30419166 -1.39710759  0.76303947  3.42610722\n",
      " -0.14105617 -1.30419166  1.39710759 -0.98747156  1.47075262 -0.69562832\n",
      "  1.93825978  0.98747156  0.69562832 -1.93825978 -0.76303947 -1.47075262\n",
      " -1.80456753]\n",
      "step: 140 w: [ 1.86812867  0.1337684   1.356816   -1.44129497  0.79159889  3.52629313\n",
      " -0.1337684  -1.356816    1.44129497 -1.00846838  1.52089733 -0.73743285\n",
      "  2.00651208  1.00846838  0.73743285 -2.00651208 -0.79159889 -1.52089733\n",
      " -1.86812867]\n",
      "step: 150 w: [ 1.92864204  0.12664895  1.40726758 -1.48362204  0.81904101  3.621412\n",
      " -0.12664895 -1.40726758  1.48362204 -1.02818893  1.56860454 -0.77737456\n",
      "  2.07184861  1.02818893  0.77737456 -2.07184861 -0.81904101 -1.56860454\n",
      " -1.92864204]\n",
      "step: 160 w: [ 1.98643137  0.11973247  1.45572009 -1.52427176  0.84546236  3.71207592\n",
      " -0.11973247 -1.45572009  1.52427176 -1.04683515  1.61412388 -0.81558201\n",
      "  2.13452949  1.04683515  0.81558201 -2.13452949 -0.84546236 -1.61412388\n",
      " -1.98643137]\n",
      "step: 170 w: [ 2.04176987  0.11304003  1.50232675 -1.56339802  0.87094563  3.79878773\n",
      " -0.11304003 -1.50232675  1.56339802 -1.06456547  1.65766685 -0.85217443\n",
      "  2.19477914  1.06456547  0.85217443 -2.19477914 -0.87094563 -1.65766685\n",
      " -2.04176987]\n",
      "step: 180 w: [ 2.09489029  0.10658316  1.54722367 -1.60113189  0.89556254  3.88196541\n",
      " -0.10658316 -1.54722367  1.60113189 -1.08150577  1.69941456 -0.88726205\n",
      "  2.25279302  1.08150577  0.88726205 -2.25279302 -0.89556254 -1.69941456\n",
      " -2.09489029]\n",
      "step: 190 w: [ 2.14599249  0.10036667  1.59053247 -1.63758625  0.91937596  3.96196013\n",
      " -0.10036667 -1.59053247  1.63758625 -1.09775735  1.73952346 -0.92094651\n",
      "  2.30874276  1.09775735  0.92094651 -2.30874276 -0.91937596 -1.73952346\n",
      " -2.14599249]\n",
      "step: 200 w: [ 2.1952494   0.09439069  1.63236235 -1.67285918  0.94244146  4.03906969\n",
      " -0.09439069 -1.63236235  1.67285918 -1.11340256  1.77812979 -0.95332138\n",
      "  2.36278007  1.11340256  0.95332138 -2.36278007 -0.94244146 -1.77812979\n",
      " -2.1952494 ]\n",
      "step: 210 w: [ 2.24281163  0.08865208  1.67281175 -1.70703669  0.96480857  4.11354885\n",
      " -0.08865208 -1.67281175  1.70703669 -1.1285091   1.81535296 -0.98447275\n",
      "  2.41503988  1.1285091   0.98447275 -2.41503988 -0.96480857 -1.81535296\n",
      " -2.24281163]\n",
      "step: 220 w: [ 2.28881115  0.08314548  1.71196979 -1.74019473  0.98652169  4.18561728\n",
      " -0.08314548 -1.71196979  1.74019473 -1.14313309  1.85129828 -1.01447975\n",
      "  2.46564284  1.14313309  1.01447975 -2.46564284 -0.98652169 -1.85129828\n",
      " -2.28881115]\n",
      "step: 230 w: [ 2.33336428  0.07786404  1.74991736 -1.77240081  1.00762084  4.25546576\n",
      " -0.07786404 -1.74991736  1.77240081 -1.15732151  1.88605914 -1.04341513\n",
      "  2.51469733  1.15732151  1.04341513 -2.51469733 -1.00762084 -1.88605914\n",
      " -2.33336428]\n",
      "step: 240 w: [ 2.37657408  0.07279996  1.78672812 -1.80371529  1.02814229  4.32326108\n",
      " -0.07279996 -1.78672812  1.80371529 -1.171114    1.91971874 -1.07134579\n",
      "  2.56230111  1.171114    1.07134579 -2.56230111 -1.02814229 -1.91971874\n",
      " -2.37657408]\n",
      "step: 250 w: [ 2.41853229  0.06794489  1.82246933 -1.83419243  1.04811903  4.38914996\n",
      " -0.06794489 -1.82246933  1.83419243 -1.18454427  1.95235156 -1.09833327\n",
      "  2.60854273  1.18454427  1.09833327 -2.60854273 -1.04811903 -1.95235156\n",
      " -2.41853229]\n",
      "step: 260 w: [ 2.45932095  0.06329019  1.85720255 -1.86388126  1.06758117  4.45326222\n",
      " -0.06329019 -1.85720255  1.86388126 -1.19764119  1.98402452 -1.12443425\n",
      "  2.65350264  1.19764119  1.12443425 -2.65350264 -1.06758117 -1.98402452\n",
      " -2.45932095]\n",
      "step: 270 w: [ 2.49901373  0.05882717  1.89098427 -1.89282622  1.08655631  4.51571332\n",
      " -0.05882717 -1.89098427  1.89282622 -1.21042968  2.01479802 -1.14970094\n",
      "  2.69725418  1.21042968  1.14970094 -2.69725418 -1.08655631 -2.01479802\n",
      " -2.49901373]\n",
      "step: 280 w: [ 2.53767705  0.05454719  1.92386641 -1.9210678   1.10506979  4.57660646\n",
      " -0.05454719 -1.92386641  1.9210678  -1.2229314   2.04472671 -1.17418152\n",
      "  2.73986442  1.2229314   1.17418152 -2.73986442 -1.10506979 -2.04472671\n",
      " -2.53767705]\n",
      "step: 290 w: [ 2.57537105  0.05044178  1.95589684 -1.94864299  1.12314497  4.63603433\n",
      " -0.05044178 -1.95589684  1.94864299 -1.23516525  2.07386027 -1.19792046\n",
      "  2.78139487  1.23516525  1.19792046 -2.78139487 -1.12314497 -2.07386027\n",
      " -2.57537105]\n",
      "step: 300 w: [ 2.6121503   0.04650272  1.98711973 -1.97558572  1.14080341  4.69408051\n",
      " -0.04650272 -1.98711973  1.97558572 -1.2471479   2.10224393 -1.2209589\n",
      "  2.82190205  1.2471479   1.2209589  -2.82190205 -1.14080341 -2.10224393\n",
      " -2.6121503 ]\n",
      "step: 310 w: [ 2.64806454  0.04272207  2.01757595 -2.00192718  1.15806508  4.7508207\n",
      " -0.04272207 -2.01757595  2.00192718 -1.25889406  2.12991905 -1.24333488\n",
      "  2.86143805  1.25889406  1.24333488 -2.86143805 -1.15806508 -2.12991905\n",
      " -2.64806454]\n",
      "step: 320 w: [ 2.68315923  0.0390922   2.04730335 -2.02769613  1.1749485   4.80632371\n",
      " -0.0390922  -2.04730335  2.02769613 -1.27041685  2.15692351 -1.26508367\n",
      "  2.90005098  1.27041685  1.26508367 -2.90005098 -1.1749485  -2.15692351\n",
      " -2.68315923]\n",
      "step: 330 w: [ 2.71747604  0.03560582  2.07633707 -2.05291918  1.19147087  4.86065232\n",
      " -0.03560582 -2.07633707  2.05291918 -1.28172798  2.18329213 -1.286238\n",
      "  2.93778538  1.28172798  1.286238   -2.93778538 -1.19147087 -2.18329213\n",
      " -2.71747604]\n",
      "step: 340 w: [ 2.75105327  0.03225596  2.1047098  -2.07762098  1.20764824  4.91386399\n",
      " -0.03225596 -2.1047098   2.07762098 -1.29283799  2.20905695 -1.30682825\n",
      "  2.97468254  1.29283799  1.30682825 -2.97468254 -1.20764824 -2.20905695\n",
      " -2.75105327]\n",
      "step: 350 w: [ 2.78392621  0.029036    2.13245196 -2.10182443  1.22349555  4.9660115\n",
      " -0.029036   -2.13245196  2.10182443 -1.3037564   2.23424757 -1.32688268\n",
      "  3.01078084  1.3037564   1.32688268 -3.01078084 -1.22349555 -2.23424757\n",
      " -2.78392621]\n",
      "step: 360 w: [ 2.81612747  0.02593964  2.15959192 -2.12555086  1.23902676  5.01714343\n",
      " -0.02593964 -2.15959192  2.12555086 -1.31449186  2.25889135 -1.34642761\n",
      "  3.04611601  1.31449186  1.34642761 -3.04611601 -1.23902676 -2.25889135\n",
      " -2.81612747]\n",
      "step: 370 w: [ 2.84768725  0.0229609   2.18615618 -2.14882015  1.25425496  5.06730468\n",
      " -0.0229609  -2.18615618  2.14882015 -1.32505224  2.28301367 -1.36548757\n",
      "  3.08072136  1.32505224  1.36548757 -3.08072136 -1.25425496 -2.28301367\n",
      " -2.84768725]\n",
      "step: 380 w: [ 2.87863357  0.02009413  2.21216952 -2.17165089  1.2691924   5.11653681\n",
      " -0.02009413 -2.21216952  2.17165089 -1.33544474  2.30663809 -1.38408546\n",
      "  3.11462801  1.33544474  1.38408546 -3.11462801 -1.2691924  -2.30663809\n",
      " -2.87863357]\n",
      "step: 390 w: [ 2.9089925   0.01733396  2.23765516 -2.19406049  1.28385057  5.16487842\n",
      " -0.01733396 -2.23765516  2.19406049 -1.345676    2.32978655 -1.40224267\n",
      "  3.14786508  1.345676    1.40224267 -3.14786508 -1.28385057 -2.32978655\n",
      " -2.9089925 ]\n",
      "step: 400 w: [ 2.93878833  0.01467532  2.26263487 -2.21606526  1.29824029  5.21236542\n",
      " -0.01467532 -2.26263487  2.21606526 -1.35575212  2.35247949 -1.4199792\n",
      "  3.18045984  1.35575212  1.4199792  -3.18045984 -1.29824029 -2.35247949\n"
     ]
    },
    {
     "name": "stdout",
     "output_type": "stream",
     "text": [
      " -2.93878833]\n",
      "step: 410 w: [ 2.96804375  0.0121134   2.28712908 -2.23768053  1.31237172  5.25903131\n",
      " -0.0121134  -2.28712908  2.23768053 -1.36567876  2.37473601 -1.4373138\n",
      "  3.21243789  1.36567876  1.4373138  -3.21243789 -1.31237172 -2.37473601\n",
      " -2.96804375]\n",
      "[ 2.97383187  0.01161222  2.29197137 -2.24195812  1.31516787  5.26826874\n",
      " -0.01161222 -2.29197137  2.24195812 -1.36764661  2.37913653 -1.44073406\n",
      "  3.21876163  1.36764661  1.44073406 -3.21876163 -1.31516787 -2.37913653\n",
      " -2.97383187]\n"
     ]
    },
    {
     "data": {
      "text/plain": [
       "{'no': 4.885938048409815e-05, 'yes': 0.9999511406195158}"
      ]
     },
     "execution_count": 35,
     "metadata": {},
     "output_type": "execute_result"
    }
   ],
   "source": [
    "def target_fw(enc):\n",
    "    px_log_exp_wfxy = 0\n",
    "    xycount = sum(enc.countXy.values())\n",
    "    for x in enc.x:\n",
    "        s = 0\n",
    "        xc = 0\n",
    "        for y in enc.y:\n",
    "            xy = (x, y)\n",
    "            if xy not in enc.xyId:\n",
    "                continue\n",
    "\n",
    "            i = enc.xyId[xy]\n",
    "            wi = enc.w[i]\n",
    "            fixy = enc.countXy[xy]\n",
    "            xc += fixy\n",
    "            s += np.exp(wi * fixy)\n",
    "        px = xc / xycount\n",
    "        px_log_exp_wfxy += px * np.log(s)\n",
    "\n",
    "    pxy_wfxy = 0\n",
    "    for x in enc.x:\n",
    "        for y in enc.y:\n",
    "            xy = (x, y)\n",
    "            if xy not in enc.xyId:\n",
    "                continue\n",
    "            pxy = enc.countXy[xy] / xycount\n",
    "            i = enc.xyId[xy]\n",
    "            wi = enc.w[i]\n",
    "            fixy = enc.countXy[xy]\n",
    "            pxy_wfxy += pxy * wi * fixy\n",
    "    return px_log_exp_wfxy - pxy_wfxy\n",
    "\n",
    "\n",
    "def dfp(enc, eps=0.01):\n",
    "    N = enc.n\n",
    "    G = np.diagflat(np.ones(N))\n",
    "    step = 0\n",
    "    while True:\n",
    "        step += 1\n",
    "        gw = np.array([model_ep(enc, i) - enc.EP[i] for i in range(N)]).reshape(-1, 1)\n",
    "        if np.linalg.norm(gw, 2) < eps:\n",
    "            break\n",
    "        pk = -(G @ gw).reshape((-1, ))\n",
    "        lambdak = 1\n",
    "        oldw = enc.w\n",
    "        if step % 10 == 0:\n",
    "            print('step: {} w: {}'.format(step, oldw))\n",
    "        while True:\n",
    "            oldfw = target_fw(enc)\n",
    "            enc.w = enc.w + pk\n",
    "            newfw = target_fw(enc)\n",
    "            if newfw > oldfw:\n",
    "                break\n",
    "            lambdak += 1\n",
    "\n",
    "        deltak = (pk * lambdak).reshape(-1, 1) # = enc.w-oldw\n",
    "        yk = G @ deltak\n",
    "        G = G + (deltak @ deltak.T) / (deltak.T @ yk).item(0) - (G @ yk @ yk.T @ G) / (yk.T @ G @ yk).item(0)\n",
    "            \n",
    "enc = MaxEntropy()\n",
    "enc.load_data(dataset)\n",
    "dfp(enc)\n",
    "print(enc.w)\n",
    "predict(enc, ['overcast', 'mild', 'high', 'FALSE'])    "
   ]
  },
  {
   "cell_type": "markdown",
   "metadata": {},
   "source": [
    "## BFGS算法\n",
    "\n",
    "输入：目标函数$f(x)$，$g(x)=\\nabla f(x)$，精度要求$\\epsilon$；\n",
    "输出：$f(x)$得极小值点$x^\\star$。\n",
    "\n",
    "1. 选定初始点$x^{(0)}$，取$B_0$为正定对称矩阵，置$k=0$。\n",
    "2. 计算$g_k=g(x^{(k)})$。若$\\Vert g_k \\Vert \\lt \\epsilon$，则停止计算，得近似解$x^\\star=x^{(k)}$；否则转(3)。\n",
    "3. 由$B_kp_k=-g_k$求出$p_k$。\n",
    "4. 一维搜索：求$\\lambda_k$使得\n",
    "$$\n",
    "f(x^{(k)}+\\lambda_kp_k) = \\underset {\\lambda \\geq 0}{\\min}f(x^{(k)}+\\lambda p_k)\n",
    "$$\n",
    "5. 置$x^{(k+1)}=x^{(k)}+\\lambda_kp_k$。\n",
    "6. 计算$g_{k+1}=g(x^{(k+1)})$，若$\\Vert g_{k+1}\\Vert \\lt \\epsilon$，则停止计算，得近似解$x^\\star = x^{(k+1)}$；否则计算$B_{k+1}$。\n",
    "$$\n",
    "B_{k+1}=B_k+\\frac{y_ky_k^T}{y_k^T\\delta_k}-\\frac{B_k\\delta_k\\delta_k^TB_k}{\\delta_k^TB_k\\delta_k}\n",
    "$$\n",
    "其中：\n",
    "$$\n",
    "y_k = B_k\\delta_k\n",
    "$$\n",
    "7. 置$k=k+1$，转(3)"
   ]
  },
  {
   "cell_type": "code",
   "execution_count": 39,
   "metadata": {},
   "outputs": [
    {
     "name": "stdout",
     "output_type": "stream",
     "text": [
      "step: 10 w: [ 0.42442533  0.10723444  0.33320304 -0.4729843   0.20051219  0.8898315\n",
      " -0.10723444 -0.33320304  0.4729843  -0.19293405  0.32545197  0.05425458\n",
      "  0.60567515  0.19293405 -0.05425458 -0.60567515 -0.20051219 -0.32545197\n",
      " -0.42442533]\n",
      "step: 20 w: [ 0.66003386  0.1527472   0.47034397 -0.63353198  0.29652903  1.40165357\n",
      " -0.1527472  -0.47034397  0.63353198 -0.40461676  0.54021481 -0.05046466\n",
      "  0.80734692  0.40461676  0.05046466 -0.80734692 -0.29652903 -0.54021481\n",
      " -0.66003386]\n",
      "step: 30 w: [ 0.83739774  0.17504888  0.58287022 -0.75125711  0.36497257  1.76613463\n",
      " -0.17504888 -0.58287022  0.75125711 -0.54245235  0.69585052 -0.1345171\n",
      "  0.96915476  0.54245235  0.1345171  -0.96915476 -0.36497257 -0.69585052\n",
      " -0.83739774]\n",
      "step: 40 w: [ 0.98505779  0.18495995  0.68162855 -0.84855265  0.42205589  2.0499215\n",
      " -0.18495995 -0.68162855  0.84855265 -0.63836694  0.81924597 -0.20778926\n",
      "  1.10812531  0.63836694  0.20778926 -1.10812531 -0.42205589 -0.81924597\n",
      " -0.98505779]\n",
      "step: 50 w: [ 1.11325187  0.18778884  0.77077304 -0.9328195   0.47231838  2.28351247\n",
      " -0.18778884 -0.77077304  0.9328195  -0.70975948  0.92326197 -0.27497201\n",
      "  1.23127416  0.70975948  0.27497201 -1.23127416 -0.47231838 -0.92326197\n",
      " -1.11325187]\n",
      "step: 60 w: [ 1.22717501  0.18639024  0.8526861  -1.00782079  0.51777194  2.48303595\n",
      " -0.18639024 -0.8526861   1.00782079 -0.76581208  1.01430416 -0.33786507\n",
      "  1.34273496  0.76581208  0.33786507 -1.34273496 -0.51777194 -1.01430416\n",
      " -1.22717501]\n",
      "step: 70 w: [ 1.33003444  0.18240637  0.92883982 -1.07583913  0.55956839  2.65798051\n",
      " -0.18240637 -0.92883982  1.07583913 -0.81167533  1.09591425 -0.39723714\n",
      "  1.44511056  0.81167533  0.39723714 -1.44511056 -0.55956839 -1.09591425\n",
      " -1.33003444]\n",
      "step: 80 w: [ 1.42401909  0.17683531  1.00020483 -1.13837926  0.59845165  2.81437774\n",
      " -0.17683531 -1.00020483  1.13837926 -0.85043104  1.17025005 -0.45348713\n",
      "  1.54013244  0.85043104  0.45348713 -1.54013244 -0.59845165 -1.17025005\n",
      " -1.42401909]\n",
      "step: 90 w: [ 1.51070931  0.17030851  1.06746464 -1.19648568  0.63493473  2.95628957\n",
      " -0.17030851 -1.06746464  1.19648568 -0.88402931  1.23873525 -0.50687579\n",
      "  1.62901559  0.88402931  0.50687579 -1.62901559 -0.63493473 -1.23873525\n",
      " -1.51070931]\n",
      "step: 100 w: [ 1.59128909  0.16323685  1.13112942 -1.25091208  0.66938776  3.08657612\n",
      " -0.16323685 -1.13112942  1.25091208 -0.91376271  1.30237035 -0.55760918\n",
      "  1.71265374  0.91376271  0.55760918 -1.71265374 -0.66938776 -1.30237035\n",
      " -1.59128909]\n",
      "step: 110 w: [ 1.66667035  0.15589264  1.19159847 -1.30221995  0.70208769  3.20732383\n",
      " -0.15589264 -1.19159847  1.30221995 -0.94052122  1.36189385 -0.60586895\n",
      "  1.79173074  0.94052122  0.60586895 -1.79173074 -0.70208769 -1.36189385\n",
      " -1.66667035]\n",
      "step: 120 w: [ 1.73757118  0.14845824  1.24919581 -1.35083934  0.73324836  3.32009928\n",
      " -0.14845824 -1.24919581  1.35083934 -0.96493712  1.41787211 -0.6518229\n",
      "  1.86678679  0.96493712  0.6518229  -1.86678679 -0.73324836 -1.41787211\n",
      " -1.73757118]\n",
      "step: 130 w: [ 1.80456753  0.14105617  1.30419166 -1.39710759  0.76303947  3.42610722\n",
      " -0.14105617 -1.30419166  1.39710759 -0.98747156  1.47075262 -0.69562832\n",
      "  1.93825978  0.98747156  0.69562832 -1.93825978 -0.76303947 -1.47075262\n",
      " -1.80456753]\n",
      "step: 140 w: [ 1.86812867  0.1337684   1.356816   -1.44129497  0.79159889  3.52629313\n",
      " -0.1337684  -1.356816    1.44129497 -1.00846838  1.52089733 -0.73743285\n",
      "  2.00651208  1.00846838  0.73743285 -2.00651208 -0.79159889 -1.52089733\n",
      " -1.86812867]\n",
      "step: 150 w: [ 1.92864204  0.12664895  1.40726758 -1.48362204  0.81904101  3.621412\n",
      " -0.12664895 -1.40726758  1.48362204 -1.02818893  1.56860454 -0.77737456\n",
      "  2.07184861  1.02818893  0.77737456 -2.07184861 -0.81904101 -1.56860454\n",
      " -1.92864204]\n",
      "step: 160 w: [ 1.98643137  0.11973247  1.45572009 -1.52427176  0.84546236  3.71207592\n",
      " -0.11973247 -1.45572009  1.52427176 -1.04683515  1.61412388 -0.81558201\n",
      "  2.13452949  1.04683515  0.81558201 -2.13452949 -0.84546236 -1.61412388\n",
      " -1.98643137]\n",
      "step: 170 w: [ 2.04176987  0.11304003  1.50232675 -1.56339802  0.87094563  3.79878773\n",
      " -0.11304003 -1.50232675  1.56339802 -1.06456547  1.65766685 -0.85217443\n",
      "  2.19477914  1.06456547  0.85217443 -2.19477914 -0.87094563 -1.65766685\n",
      " -2.04176987]\n",
      "step: 180 w: [ 2.09489029  0.10658316  1.54722367 -1.60113189  0.89556254  3.88196541\n",
      " -0.10658316 -1.54722367  1.60113189 -1.08150577  1.69941456 -0.88726205\n",
      "  2.25279302  1.08150577  0.88726205 -2.25279302 -0.89556254 -1.69941456\n",
      " -2.09489029]\n",
      "step: 190 w: [ 2.14599249  0.10036667  1.59053247 -1.63758625  0.91937596  3.96196013\n",
      " -0.10036667 -1.59053247  1.63758625 -1.09775735  1.73952346 -0.92094651\n",
      "  2.30874276  1.09775735  0.92094651 -2.30874276 -0.91937596 -1.73952346\n",
      " -2.14599249]\n",
      "step: 200 w: [ 2.1952494   0.09439069  1.63236235 -1.67285918  0.94244146  4.03906969\n",
      " -0.09439069 -1.63236235  1.67285918 -1.11340256  1.77812979 -0.95332138\n",
      "  2.36278007  1.11340256  0.95332138 -2.36278007 -0.94244146 -1.77812979\n",
      " -2.1952494 ]\n",
      "step: 210 w: [ 2.24281163  0.08865208  1.67281175 -1.70703669  0.96480857  4.11354885\n",
      " -0.08865208 -1.67281175  1.70703669 -1.1285091   1.81535296 -0.98447275\n",
      "  2.41503988  1.1285091   0.98447275 -2.41503988 -0.96480857 -1.81535296\n",
      " -2.24281163]\n",
      "step: 220 w: [ 2.28881115  0.08314548  1.71196979 -1.74019473  0.98652169  4.18561728\n",
      " -0.08314548 -1.71196979  1.74019473 -1.14313309  1.85129828 -1.01447975\n",
      "  2.46564284  1.14313309  1.01447975 -2.46564284 -0.98652169 -1.85129828\n",
      " -2.28881115]\n",
      "step: 230 w: [ 2.33336428  0.07786404  1.74991736 -1.77240081  1.00762084  4.25546576\n",
      " -0.07786404 -1.74991736  1.77240081 -1.15732151  1.88605914 -1.04341513\n",
      "  2.51469733  1.15732151  1.04341513 -2.51469733 -1.00762084 -1.88605914\n",
      " -2.33336428]\n",
      "step: 240 w: [ 2.37657408  0.07279996  1.78672812 -1.80371529  1.02814229  4.32326108\n",
      " -0.07279996 -1.78672812  1.80371529 -1.171114    1.91971874 -1.07134579\n",
      "  2.56230111  1.171114    1.07134579 -2.56230111 -1.02814229 -1.91971874\n",
      " -2.37657408]\n",
      "step: 250 w: [ 2.41853229  0.06794489  1.82246933 -1.83419243  1.04811903  4.38914996\n",
      " -0.06794489 -1.82246933  1.83419243 -1.18454427  1.95235156 -1.09833327\n",
      "  2.60854273  1.18454427  1.09833327 -2.60854273 -1.04811903 -1.95235156\n",
      " -2.41853229]\n",
      "step: 260 w: [ 2.45932095  0.06329019  1.85720255 -1.86388126  1.06758117  4.45326222\n",
      " -0.06329019 -1.85720255  1.86388126 -1.19764119  1.98402452 -1.12443425\n",
      "  2.65350264  1.19764119  1.12443425 -2.65350264 -1.06758117 -1.98402452\n",
      " -2.45932095]\n",
      "step: 270 w: [ 2.49901373  0.05882717  1.89098427 -1.89282622  1.08655631  4.51571332\n",
      " -0.05882717 -1.89098427  1.89282622 -1.21042968  2.01479802 -1.14970094\n",
      "  2.69725418  1.21042968  1.14970094 -2.69725418 -1.08655631 -2.01479802\n",
      " -2.49901373]\n",
      "step: 280 w: [ 2.53767705  0.05454719  1.92386641 -1.9210678   1.10506979  4.57660646\n",
      " -0.05454719 -1.92386641  1.9210678  -1.2229314   2.04472671 -1.17418152\n",
      "  2.73986442  1.2229314   1.17418152 -2.73986442 -1.10506979 -2.04472671\n",
      " -2.53767705]\n",
      "step: 290 w: [ 2.57537105  0.05044178  1.95589684 -1.94864299  1.12314497  4.63603433\n",
      " -0.05044178 -1.95589684  1.94864299 -1.23516525  2.07386027 -1.19792046\n",
      "  2.78139487  1.23516525  1.19792046 -2.78139487 -1.12314497 -2.07386027\n",
      " -2.57537105]\n",
      "step: 300 w: [ 2.6121503   0.04650272  1.98711973 -1.97558572  1.14080341  4.69408051\n",
      " -0.04650272 -1.98711973  1.97558572 -1.2471479   2.10224393 -1.2209589\n",
      "  2.82190205  1.2471479   1.2209589  -2.82190205 -1.14080341 -2.10224393\n",
      " -2.6121503 ]\n",
      "step: 310 w: [ 2.64806454  0.04272207  2.01757595 -2.00192718  1.15806508  4.7508207\n",
      " -0.04272207 -2.01757595  2.00192718 -1.25889406  2.12991905 -1.24333488\n",
      "  2.86143805  1.25889406  1.24333488 -2.86143805 -1.15806508 -2.12991905\n",
      " -2.64806454]\n",
      "step: 320 w: [ 2.68315923  0.0390922   2.04730335 -2.02769613  1.1749485   4.80632371\n",
      " -0.0390922  -2.04730335  2.02769613 -1.27041685  2.15692351 -1.26508367\n",
      "  2.90005098  1.27041685  1.26508367 -2.90005098 -1.1749485  -2.15692351\n",
      " -2.68315923]\n",
      "step: 330 w: [ 2.71747604  0.03560582  2.07633707 -2.05291918  1.19147087  4.86065232\n",
      " -0.03560582 -2.07633707  2.05291918 -1.28172798  2.18329213 -1.286238\n",
      "  2.93778538  1.28172798  1.286238   -2.93778538 -1.19147087 -2.18329213\n",
      " -2.71747604]\n",
      "step: 340 w: [ 2.75105327  0.03225596  2.1047098  -2.07762098  1.20764824  4.91386399\n",
      " -0.03225596 -2.1047098   2.07762098 -1.29283799  2.20905695 -1.30682825\n",
      "  2.97468254  1.29283799  1.30682825 -2.97468254 -1.20764824 -2.20905695\n",
      " -2.75105327]\n",
      "step: 350 w: [ 2.78392621  0.029036    2.13245196 -2.10182443  1.22349555  4.9660115\n",
      " -0.029036   -2.13245196  2.10182443 -1.3037564   2.23424757 -1.32688268\n",
      "  3.01078084  1.3037564   1.32688268 -3.01078084 -1.22349555 -2.23424757\n",
      " -2.78392621]\n"
     ]
    },
    {
     "name": "stdout",
     "output_type": "stream",
     "text": [
      "step: 360 w: [ 2.81612747  0.02593964  2.15959192 -2.12555086  1.23902676  5.01714343\n",
      " -0.02593964 -2.15959192  2.12555086 -1.31449186  2.25889135 -1.34642761\n",
      "  3.04611601  1.31449186  1.34642761 -3.04611601 -1.23902676 -2.25889135\n",
      " -2.81612747]\n",
      "step: 370 w: [ 2.84768725  0.0229609   2.18615618 -2.14882015  1.25425496  5.06730468\n",
      " -0.0229609  -2.18615618  2.14882015 -1.32505224  2.28301367 -1.36548757\n",
      "  3.08072136  1.32505224  1.36548757 -3.08072136 -1.25425496 -2.28301367\n",
      " -2.84768725]\n",
      "step: 380 w: [ 2.87863357  0.02009413  2.21216952 -2.17165089  1.2691924   5.11653681\n",
      " -0.02009413 -2.21216952  2.17165089 -1.33544474  2.30663809 -1.38408546\n",
      "  3.11462801  1.33544474  1.38408546 -3.11462801 -1.2691924  -2.30663809\n",
      " -2.87863357]\n",
      "step: 390 w: [ 2.9089925   0.01733396  2.23765516 -2.19406049  1.28385057  5.16487842\n",
      " -0.01733396 -2.23765516  2.19406049 -1.345676    2.32978655 -1.40224267\n",
      "  3.14786508  1.345676    1.40224267 -3.14786508 -1.28385057 -2.32978655\n",
      " -2.9089925 ]\n",
      "step: 400 w: [ 2.93878833  0.01467532  2.26263487 -2.21606526  1.29824029  5.21236542\n",
      " -0.01467532 -2.26263487  2.21606526 -1.35575212  2.35247949 -1.4199792\n",
      "  3.18045984  1.35575212  1.4199792  -3.18045984 -1.29824029 -2.35247949\n",
      " -2.93878833]\n",
      "step: 410 w: [ 2.96804375  0.0121134   2.28712908 -2.23768053  1.31237172  5.25903131\n",
      " -0.0121134  -2.28712908  2.23768053 -1.36567876  2.37473601 -1.4373138\n",
      "  3.21243789  1.36567876  1.4373138  -3.21243789 -1.31237172 -2.37473601\n",
      " -2.96804375]\n",
      "[ 2.97383187  0.01161222  2.29197137 -2.24195812  1.31516787  5.26826874\n",
      " -0.01161222 -2.29197137  2.24195812 -1.36764661  2.37913653 -1.44073406\n",
      "  3.21876163  1.36764661  1.44073406 -3.21876163 -1.31516787 -2.37913653\n",
      " -2.97383187]\n"
     ]
    },
    {
     "data": {
      "text/plain": [
       "{'no': 4.885938048409759e-05, 'yes': 0.9999511406195158}"
      ]
     },
     "execution_count": 39,
     "metadata": {},
     "output_type": "execute_result"
    }
   ],
   "source": [
    "def bfgs(enc, eps=0.01):\n",
    "    N = enc.n\n",
    "    B = np.diagflat(np.ones(N))\n",
    "    step = 0\n",
    "    while True:\n",
    "        step += 1\n",
    "        gw = np.array([model_ep(enc, i) - enc.EP[i] for i in range(N)]).reshape(-1, 1)\n",
    "        if np.linalg.norm(gw, 2) < eps:\n",
    "            break\n",
    "        pk = -(np.linalg.pinv(B)@gw).reshape((-1,))\n",
    "        oldw = enc.w\n",
    "        if step % 10 == 0:\n",
    "            print('step: {} w: {}'.format(step, oldw))\n",
    "        while True:\n",
    "            oldfw = target_fw(enc)\n",
    "            enc.w = enc.w + pk\n",
    "            newfw = target_fw(enc)\n",
    "            if newfw > oldfw:\n",
    "                break\n",
    "\n",
    "        deltak = (enc.w-oldw).reshape(-1, 1)\n",
    "        yk = B @ deltak\n",
    "        B = B + (yk@yk.T) / (yk.T@deltak).item(0) - (B@deltak@deltak.T@B) / (deltak.T@B@deltak).item(0)\n",
    "\n",
    "enc = MaxEntropy()\n",
    "enc.load_data(dataset)\n",
    "bfgs(enc)\n",
    "print(enc.w)\n",
    "predict(enc, ['overcast', 'mild', 'high', 'FALSE'])    "
   ]
  },
  {
   "cell_type": "code",
   "execution_count": null,
   "metadata": {},
   "outputs": [],
   "source": []
  }
 ],
 "metadata": {
  "kernelspec": {
   "display_name": "Python 3",
   "language": "python",
   "name": "python3"
  },
  "language_info": {
   "codemirror_mode": {
    "name": "ipython",
    "version": 3
   },
   "file_extension": ".py",
   "mimetype": "text/x-python",
   "name": "python",
   "nbconvert_exporter": "python",
   "pygments_lexer": "ipython3",
   "version": "3.6.7"
  }
 },
 "nbformat": 4,
 "nbformat_minor": 2
}
